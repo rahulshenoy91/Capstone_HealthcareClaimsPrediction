{
 "cells": [
  {
   "cell_type": "markdown",
   "id": "67350318",
   "metadata": {},
   "source": [
    "# HEALTH INSURANCE CLAIMS PREDICTION"
   ]
  },
  {
   "cell_type": "markdown",
   "id": "6c522caa",
   "metadata": {},
   "source": [
    "# Section-1 : Exploratory Data Analysis (EDA)"
   ]
  },
  {
   "cell_type": "code",
   "execution_count": 291,
   "id": "05cbf45a",
   "metadata": {},
   "outputs": [],
   "source": [
    "#Importing necessary Libraries & Packages.\n",
    "import pandas as pd\n",
    "import numpy as np\n",
    "from sklearn import metrics\n",
    "import seaborn as sns\n",
    "import matplotlib.pyplot as plt"
   ]
  },
  {
   "cell_type": "code",
   "execution_count": 292,
   "id": "131f1c58",
   "metadata": {},
   "outputs": [],
   "source": [
    "# Importing the dataset.\n",
    "data_complete = pd.read_csv(\"C:/Users/rahul/Desktop/CapstoneFinal/insurance_data.csv\")"
   ]
  },
  {
   "cell_type": "code",
   "execution_count": 293,
   "id": "24a6c091",
   "metadata": {},
   "outputs": [
    {
     "data": {
      "text/html": [
       "<div>\n",
       "<style scoped>\n",
       "    .dataframe tbody tr th:only-of-type {\n",
       "        vertical-align: middle;\n",
       "    }\n",
       "\n",
       "    .dataframe tbody tr th {\n",
       "        vertical-align: top;\n",
       "    }\n",
       "\n",
       "    .dataframe thead th {\n",
       "        text-align: right;\n",
       "    }\n",
       "</style>\n",
       "<table border=\"1\" class=\"dataframe\">\n",
       "  <thead>\n",
       "    <tr style=\"text-align: right;\">\n",
       "      <th></th>\n",
       "      <th>age</th>\n",
       "      <th>sex</th>\n",
       "      <th>bmi</th>\n",
       "      <th>steps</th>\n",
       "      <th>children</th>\n",
       "      <th>smoker</th>\n",
       "      <th>region</th>\n",
       "      <th>charges</th>\n",
       "      <th>insuranceclaim</th>\n",
       "    </tr>\n",
       "  </thead>\n",
       "  <tbody>\n",
       "    <tr>\n",
       "      <th>0</th>\n",
       "      <td>19</td>\n",
       "      <td>female</td>\n",
       "      <td>27.900</td>\n",
       "      <td>3009</td>\n",
       "      <td>0</td>\n",
       "      <td>yes</td>\n",
       "      <td>southwest</td>\n",
       "      <td>16884.92400</td>\n",
       "      <td>1</td>\n",
       "    </tr>\n",
       "    <tr>\n",
       "      <th>1</th>\n",
       "      <td>18</td>\n",
       "      <td>male</td>\n",
       "      <td>33.770</td>\n",
       "      <td>3008</td>\n",
       "      <td>1</td>\n",
       "      <td>no</td>\n",
       "      <td>southeast</td>\n",
       "      <td>1725.55230</td>\n",
       "      <td>1</td>\n",
       "    </tr>\n",
       "    <tr>\n",
       "      <th>2</th>\n",
       "      <td>28</td>\n",
       "      <td>male</td>\n",
       "      <td>33.000</td>\n",
       "      <td>3009</td>\n",
       "      <td>3</td>\n",
       "      <td>no</td>\n",
       "      <td>southeast</td>\n",
       "      <td>4449.46200</td>\n",
       "      <td>0</td>\n",
       "    </tr>\n",
       "    <tr>\n",
       "      <th>3</th>\n",
       "      <td>33</td>\n",
       "      <td>male</td>\n",
       "      <td>22.705</td>\n",
       "      <td>10009</td>\n",
       "      <td>0</td>\n",
       "      <td>no</td>\n",
       "      <td>northwest</td>\n",
       "      <td>21984.47061</td>\n",
       "      <td>0</td>\n",
       "    </tr>\n",
       "    <tr>\n",
       "      <th>4</th>\n",
       "      <td>32</td>\n",
       "      <td>male</td>\n",
       "      <td>28.880</td>\n",
       "      <td>8010</td>\n",
       "      <td>0</td>\n",
       "      <td>no</td>\n",
       "      <td>northwest</td>\n",
       "      <td>3866.85520</td>\n",
       "      <td>1</td>\n",
       "    </tr>\n",
       "  </tbody>\n",
       "</table>\n",
       "</div>"
      ],
      "text/plain": [
       "   age     sex     bmi  steps  children smoker     region      charges  \\\n",
       "0   19  female  27.900   3009         0    yes  southwest  16884.92400   \n",
       "1   18    male  33.770   3008         1     no  southeast   1725.55230   \n",
       "2   28    male  33.000   3009         3     no  southeast   4449.46200   \n",
       "3   33    male  22.705  10009         0     no  northwest  21984.47061   \n",
       "4   32    male  28.880   8010         0     no  northwest   3866.85520   \n",
       "\n",
       "   insuranceclaim  \n",
       "0               1  \n",
       "1               1  \n",
       "2               0  \n",
       "3               0  \n",
       "4               1  "
      ]
     },
     "execution_count": 293,
     "metadata": {},
     "output_type": "execute_result"
    }
   ],
   "source": [
    "# Describing the data.\n",
    "data_complete.head()"
   ]
  },
  {
   "cell_type": "code",
   "execution_count": 294,
   "id": "d4aa5656",
   "metadata": {},
   "outputs": [
    {
     "data": {
      "text/html": [
       "<div>\n",
       "<style scoped>\n",
       "    .dataframe tbody tr th:only-of-type {\n",
       "        vertical-align: middle;\n",
       "    }\n",
       "\n",
       "    .dataframe tbody tr th {\n",
       "        vertical-align: top;\n",
       "    }\n",
       "\n",
       "    .dataframe thead th {\n",
       "        text-align: right;\n",
       "    }\n",
       "</style>\n",
       "<table border=\"1\" class=\"dataframe\">\n",
       "  <thead>\n",
       "    <tr style=\"text-align: right;\">\n",
       "      <th></th>\n",
       "      <th>age</th>\n",
       "      <th>sex</th>\n",
       "      <th>bmi</th>\n",
       "      <th>steps</th>\n",
       "      <th>children</th>\n",
       "      <th>smoker</th>\n",
       "      <th>region</th>\n",
       "      <th>charges</th>\n",
       "      <th>insuranceclaim</th>\n",
       "    </tr>\n",
       "  </thead>\n",
       "  <tbody>\n",
       "    <tr>\n",
       "      <th>1333</th>\n",
       "      <td>50</td>\n",
       "      <td>male</td>\n",
       "      <td>30.97</td>\n",
       "      <td>4008</td>\n",
       "      <td>3</td>\n",
       "      <td>no</td>\n",
       "      <td>northwest</td>\n",
       "      <td>10600.5483</td>\n",
       "      <td>0</td>\n",
       "    </tr>\n",
       "    <tr>\n",
       "      <th>1334</th>\n",
       "      <td>18</td>\n",
       "      <td>female</td>\n",
       "      <td>31.92</td>\n",
       "      <td>3003</td>\n",
       "      <td>0</td>\n",
       "      <td>no</td>\n",
       "      <td>northeast</td>\n",
       "      <td>2205.9808</td>\n",
       "      <td>1</td>\n",
       "    </tr>\n",
       "    <tr>\n",
       "      <th>1335</th>\n",
       "      <td>18</td>\n",
       "      <td>female</td>\n",
       "      <td>36.85</td>\n",
       "      <td>3008</td>\n",
       "      <td>0</td>\n",
       "      <td>no</td>\n",
       "      <td>southeast</td>\n",
       "      <td>1629.8335</td>\n",
       "      <td>1</td>\n",
       "    </tr>\n",
       "    <tr>\n",
       "      <th>1336</th>\n",
       "      <td>21</td>\n",
       "      <td>female</td>\n",
       "      <td>25.80</td>\n",
       "      <td>8009</td>\n",
       "      <td>0</td>\n",
       "      <td>no</td>\n",
       "      <td>southwest</td>\n",
       "      <td>2007.9450</td>\n",
       "      <td>0</td>\n",
       "    </tr>\n",
       "    <tr>\n",
       "      <th>1337</th>\n",
       "      <td>61</td>\n",
       "      <td>female</td>\n",
       "      <td>29.07</td>\n",
       "      <td>8008</td>\n",
       "      <td>0</td>\n",
       "      <td>yes</td>\n",
       "      <td>northwest</td>\n",
       "      <td>29141.3603</td>\n",
       "      <td>1</td>\n",
       "    </tr>\n",
       "  </tbody>\n",
       "</table>\n",
       "</div>"
      ],
      "text/plain": [
       "      age     sex    bmi  steps  children smoker     region     charges  \\\n",
       "1333   50    male  30.97   4008         3     no  northwest  10600.5483   \n",
       "1334   18  female  31.92   3003         0     no  northeast   2205.9808   \n",
       "1335   18  female  36.85   3008         0     no  southeast   1629.8335   \n",
       "1336   21  female  25.80   8009         0     no  southwest   2007.9450   \n",
       "1337   61  female  29.07   8008         0    yes  northwest  29141.3603   \n",
       "\n",
       "      insuranceclaim  \n",
       "1333               0  \n",
       "1334               1  \n",
       "1335               1  \n",
       "1336               0  \n",
       "1337               1  "
      ]
     },
     "execution_count": 294,
     "metadata": {},
     "output_type": "execute_result"
    }
   ],
   "source": [
    "# Describing the data.\n",
    "data_complete.tail()"
   ]
  },
  {
   "cell_type": "code",
   "execution_count": 295,
   "id": "e160b98f",
   "metadata": {},
   "outputs": [
    {
     "data": {
      "text/plain": [
       "(1338, 9)"
      ]
     },
     "execution_count": 295,
     "metadata": {},
     "output_type": "execute_result"
    }
   ],
   "source": [
    "# Describing the dimension of the data.\n",
    "data_complete.shape"
   ]
  },
  {
   "cell_type": "code",
   "execution_count": 296,
   "id": "f915e3ff",
   "metadata": {},
   "outputs": [
    {
     "name": "stdout",
     "output_type": "stream",
     "text": [
      "\n",
      "Number of Rows available in the dataset :  1338\n",
      "\n",
      "Number of Columns available in the dataset :  9\n"
     ]
    }
   ],
   "source": [
    "print(\"\\nNumber of Rows available in the dataset : \",data_complete.shape[0])\n",
    "print(\"\\nNumber of Columns available in the dataset : \",data_complete.shape[1])"
   ]
  },
  {
   "cell_type": "code",
   "execution_count": 297,
   "id": "c3786c07",
   "metadata": {},
   "outputs": [
    {
     "name": "stdout",
     "output_type": "stream",
     "text": [
      "<class 'pandas.core.frame.DataFrame'>\n",
      "RangeIndex: 1338 entries, 0 to 1337\n",
      "Data columns (total 9 columns):\n",
      " #   Column          Non-Null Count  Dtype  \n",
      "---  ------          --------------  -----  \n",
      " 0   age             1338 non-null   int64  \n",
      " 1   sex             1338 non-null   object \n",
      " 2   bmi             1338 non-null   float64\n",
      " 3   steps           1338 non-null   int64  \n",
      " 4   children        1338 non-null   int64  \n",
      " 5   smoker          1338 non-null   object \n",
      " 6   region          1338 non-null   object \n",
      " 7   charges         1338 non-null   float64\n",
      " 8   insuranceclaim  1338 non-null   int64  \n",
      "dtypes: float64(2), int64(4), object(3)\n",
      "memory usage: 94.2+ KB\n"
     ]
    }
   ],
   "source": [
    "# Evaluating a concise summary of the DataFrame containing the data.\n",
    "data_complete.info()"
   ]
  },
  {
   "cell_type": "code",
   "execution_count": 298,
   "id": "41d4f8be",
   "metadata": {},
   "outputs": [
    {
     "data": {
      "text/plain": [
       "age               0\n",
       "sex               0\n",
       "bmi               0\n",
       "steps             0\n",
       "children          0\n",
       "smoker            0\n",
       "region            0\n",
       "charges           0\n",
       "insuranceclaim    0\n",
       "dtype: int64"
      ]
     },
     "execution_count": 298,
     "metadata": {},
     "output_type": "execute_result"
    }
   ],
   "source": [
    "# Checking to see if there is any NULL data.\n",
    "data_complete.isnull().sum()"
   ]
  },
  {
   "cell_type": "code",
   "execution_count": 299,
   "id": "4d4ae84c",
   "metadata": {},
   "outputs": [
    {
     "data": {
      "text/html": [
       "<div>\n",
       "<style scoped>\n",
       "    .dataframe tbody tr th:only-of-type {\n",
       "        vertical-align: middle;\n",
       "    }\n",
       "\n",
       "    .dataframe tbody tr th {\n",
       "        vertical-align: top;\n",
       "    }\n",
       "\n",
       "    .dataframe thead th {\n",
       "        text-align: right;\n",
       "    }\n",
       "</style>\n",
       "<table border=\"1\" class=\"dataframe\">\n",
       "  <thead>\n",
       "    <tr style=\"text-align: right;\">\n",
       "      <th></th>\n",
       "      <th>age</th>\n",
       "      <th>sex</th>\n",
       "      <th>bmi</th>\n",
       "      <th>steps</th>\n",
       "      <th>children</th>\n",
       "      <th>smoker</th>\n",
       "      <th>region</th>\n",
       "      <th>charges</th>\n",
       "      <th>insuranceclaim</th>\n",
       "    </tr>\n",
       "  </thead>\n",
       "  <tbody>\n",
       "    <tr>\n",
       "      <th>count</th>\n",
       "      <td>1338.000000</td>\n",
       "      <td>1338</td>\n",
       "      <td>1338.000000</td>\n",
       "      <td>1338.000000</td>\n",
       "      <td>1338.000000</td>\n",
       "      <td>1338</td>\n",
       "      <td>1338</td>\n",
       "      <td>1338.000000</td>\n",
       "      <td>1338.000000</td>\n",
       "    </tr>\n",
       "    <tr>\n",
       "      <th>unique</th>\n",
       "      <td>NaN</td>\n",
       "      <td>2</td>\n",
       "      <td>NaN</td>\n",
       "      <td>NaN</td>\n",
       "      <td>NaN</td>\n",
       "      <td>2</td>\n",
       "      <td>4</td>\n",
       "      <td>NaN</td>\n",
       "      <td>NaN</td>\n",
       "    </tr>\n",
       "    <tr>\n",
       "      <th>top</th>\n",
       "      <td>NaN</td>\n",
       "      <td>male</td>\n",
       "      <td>NaN</td>\n",
       "      <td>NaN</td>\n",
       "      <td>NaN</td>\n",
       "      <td>no</td>\n",
       "      <td>southeast</td>\n",
       "      <td>NaN</td>\n",
       "      <td>NaN</td>\n",
       "    </tr>\n",
       "    <tr>\n",
       "      <th>freq</th>\n",
       "      <td>NaN</td>\n",
       "      <td>676</td>\n",
       "      <td>NaN</td>\n",
       "      <td>NaN</td>\n",
       "      <td>NaN</td>\n",
       "      <td>1064</td>\n",
       "      <td>364</td>\n",
       "      <td>NaN</td>\n",
       "      <td>NaN</td>\n",
       "    </tr>\n",
       "    <tr>\n",
       "      <th>mean</th>\n",
       "      <td>39.207025</td>\n",
       "      <td>NaN</td>\n",
       "      <td>30.663397</td>\n",
       "      <td>5328.623318</td>\n",
       "      <td>1.094918</td>\n",
       "      <td>NaN</td>\n",
       "      <td>NaN</td>\n",
       "      <td>13270.422265</td>\n",
       "      <td>0.585202</td>\n",
       "    </tr>\n",
       "    <tr>\n",
       "      <th>std</th>\n",
       "      <td>14.049960</td>\n",
       "      <td>NaN</td>\n",
       "      <td>6.098187</td>\n",
       "      <td>2453.643236</td>\n",
       "      <td>1.205493</td>\n",
       "      <td>NaN</td>\n",
       "      <td>NaN</td>\n",
       "      <td>12110.011237</td>\n",
       "      <td>0.492871</td>\n",
       "    </tr>\n",
       "    <tr>\n",
       "      <th>min</th>\n",
       "      <td>18.000000</td>\n",
       "      <td>NaN</td>\n",
       "      <td>15.960000</td>\n",
       "      <td>3000.000000</td>\n",
       "      <td>0.000000</td>\n",
       "      <td>NaN</td>\n",
       "      <td>NaN</td>\n",
       "      <td>1121.873900</td>\n",
       "      <td>0.000000</td>\n",
       "    </tr>\n",
       "    <tr>\n",
       "      <th>25%</th>\n",
       "      <td>27.000000</td>\n",
       "      <td>NaN</td>\n",
       "      <td>26.296250</td>\n",
       "      <td>3008.000000</td>\n",
       "      <td>0.000000</td>\n",
       "      <td>NaN</td>\n",
       "      <td>NaN</td>\n",
       "      <td>4740.287150</td>\n",
       "      <td>0.000000</td>\n",
       "    </tr>\n",
       "    <tr>\n",
       "      <th>50%</th>\n",
       "      <td>39.000000</td>\n",
       "      <td>NaN</td>\n",
       "      <td>30.400000</td>\n",
       "      <td>4007.000000</td>\n",
       "      <td>1.000000</td>\n",
       "      <td>NaN</td>\n",
       "      <td>NaN</td>\n",
       "      <td>9382.033000</td>\n",
       "      <td>1.000000</td>\n",
       "    </tr>\n",
       "    <tr>\n",
       "      <th>75%</th>\n",
       "      <td>51.000000</td>\n",
       "      <td>NaN</td>\n",
       "      <td>34.693750</td>\n",
       "      <td>8004.000000</td>\n",
       "      <td>2.000000</td>\n",
       "      <td>NaN</td>\n",
       "      <td>NaN</td>\n",
       "      <td>16639.912515</td>\n",
       "      <td>1.000000</td>\n",
       "    </tr>\n",
       "    <tr>\n",
       "      <th>max</th>\n",
       "      <td>64.000000</td>\n",
       "      <td>NaN</td>\n",
       "      <td>53.130000</td>\n",
       "      <td>10010.000000</td>\n",
       "      <td>5.000000</td>\n",
       "      <td>NaN</td>\n",
       "      <td>NaN</td>\n",
       "      <td>63770.428010</td>\n",
       "      <td>1.000000</td>\n",
       "    </tr>\n",
       "  </tbody>\n",
       "</table>\n",
       "</div>"
      ],
      "text/plain": [
       "                age   sex          bmi         steps     children smoker  \\\n",
       "count   1338.000000  1338  1338.000000   1338.000000  1338.000000   1338   \n",
       "unique          NaN     2          NaN           NaN          NaN      2   \n",
       "top             NaN  male          NaN           NaN          NaN     no   \n",
       "freq            NaN   676          NaN           NaN          NaN   1064   \n",
       "mean      39.207025   NaN    30.663397   5328.623318     1.094918    NaN   \n",
       "std       14.049960   NaN     6.098187   2453.643236     1.205493    NaN   \n",
       "min       18.000000   NaN    15.960000   3000.000000     0.000000    NaN   \n",
       "25%       27.000000   NaN    26.296250   3008.000000     0.000000    NaN   \n",
       "50%       39.000000   NaN    30.400000   4007.000000     1.000000    NaN   \n",
       "75%       51.000000   NaN    34.693750   8004.000000     2.000000    NaN   \n",
       "max       64.000000   NaN    53.130000  10010.000000     5.000000    NaN   \n",
       "\n",
       "           region       charges  insuranceclaim  \n",
       "count        1338   1338.000000     1338.000000  \n",
       "unique          4           NaN             NaN  \n",
       "top     southeast           NaN             NaN  \n",
       "freq          364           NaN             NaN  \n",
       "mean          NaN  13270.422265        0.585202  \n",
       "std           NaN  12110.011237        0.492871  \n",
       "min           NaN   1121.873900        0.000000  \n",
       "25%           NaN   4740.287150        0.000000  \n",
       "50%           NaN   9382.033000        1.000000  \n",
       "75%           NaN  16639.912515        1.000000  \n",
       "max           NaN  63770.428010        1.000000  "
      ]
     },
     "execution_count": 299,
     "metadata": {},
     "output_type": "execute_result"
    }
   ],
   "source": [
    "# Computing and displaying the summary statistics of the DataFrame containing the data.\n",
    "data_complete.describe(include='all')"
   ]
  },
  {
   "cell_type": "code",
   "execution_count": 300,
   "id": "4ae63a8b",
   "metadata": {
    "scrolled": true
   },
   "outputs": [],
   "source": [
    "# Converting the categorical data into numerical data and/or dummy variables.\n",
    "data_complete['sex'].unique()\n",
    "data_complete['sex']=data_complete['sex'].map({'female':0,'male':1})\n",
    "data_complete['smoker']=data_complete['smoker'].map({'yes':1,'no':0})\n",
    "data_complete['region']=data_complete['region'].map({'southwest':1,'southeast':2,'northwest':3,'northeast':4})"
   ]
  },
  {
   "cell_type": "code",
   "execution_count": 301,
   "id": "bcc67255",
   "metadata": {},
   "outputs": [
    {
     "data": {
      "text/html": [
       "<div>\n",
       "<style scoped>\n",
       "    .dataframe tbody tr th:only-of-type {\n",
       "        vertical-align: middle;\n",
       "    }\n",
       "\n",
       "    .dataframe tbody tr th {\n",
       "        vertical-align: top;\n",
       "    }\n",
       "\n",
       "    .dataframe thead th {\n",
       "        text-align: right;\n",
       "    }\n",
       "</style>\n",
       "<table border=\"1\" class=\"dataframe\">\n",
       "  <thead>\n",
       "    <tr style=\"text-align: right;\">\n",
       "      <th></th>\n",
       "      <th>age</th>\n",
       "      <th>sex</th>\n",
       "      <th>bmi</th>\n",
       "      <th>steps</th>\n",
       "      <th>children</th>\n",
       "      <th>smoker</th>\n",
       "      <th>region</th>\n",
       "      <th>charges</th>\n",
       "      <th>insuranceclaim</th>\n",
       "    </tr>\n",
       "  </thead>\n",
       "  <tbody>\n",
       "    <tr>\n",
       "      <th>0</th>\n",
       "      <td>19</td>\n",
       "      <td>0</td>\n",
       "      <td>27.900</td>\n",
       "      <td>3009</td>\n",
       "      <td>0</td>\n",
       "      <td>1</td>\n",
       "      <td>1</td>\n",
       "      <td>16884.92400</td>\n",
       "      <td>1</td>\n",
       "    </tr>\n",
       "    <tr>\n",
       "      <th>1</th>\n",
       "      <td>18</td>\n",
       "      <td>1</td>\n",
       "      <td>33.770</td>\n",
       "      <td>3008</td>\n",
       "      <td>1</td>\n",
       "      <td>0</td>\n",
       "      <td>2</td>\n",
       "      <td>1725.55230</td>\n",
       "      <td>1</td>\n",
       "    </tr>\n",
       "    <tr>\n",
       "      <th>2</th>\n",
       "      <td>28</td>\n",
       "      <td>1</td>\n",
       "      <td>33.000</td>\n",
       "      <td>3009</td>\n",
       "      <td>3</td>\n",
       "      <td>0</td>\n",
       "      <td>2</td>\n",
       "      <td>4449.46200</td>\n",
       "      <td>0</td>\n",
       "    </tr>\n",
       "    <tr>\n",
       "      <th>3</th>\n",
       "      <td>33</td>\n",
       "      <td>1</td>\n",
       "      <td>22.705</td>\n",
       "      <td>10009</td>\n",
       "      <td>0</td>\n",
       "      <td>0</td>\n",
       "      <td>3</td>\n",
       "      <td>21984.47061</td>\n",
       "      <td>0</td>\n",
       "    </tr>\n",
       "    <tr>\n",
       "      <th>4</th>\n",
       "      <td>32</td>\n",
       "      <td>1</td>\n",
       "      <td>28.880</td>\n",
       "      <td>8010</td>\n",
       "      <td>0</td>\n",
       "      <td>0</td>\n",
       "      <td>3</td>\n",
       "      <td>3866.85520</td>\n",
       "      <td>1</td>\n",
       "    </tr>\n",
       "  </tbody>\n",
       "</table>\n",
       "</div>"
      ],
      "text/plain": [
       "   age  sex     bmi  steps  children  smoker  region      charges  \\\n",
       "0   19    0  27.900   3009         0       1       1  16884.92400   \n",
       "1   18    1  33.770   3008         1       0       2   1725.55230   \n",
       "2   28    1  33.000   3009         3       0       2   4449.46200   \n",
       "3   33    1  22.705  10009         0       0       3  21984.47061   \n",
       "4   32    1  28.880   8010         0       0       3   3866.85520   \n",
       "\n",
       "   insuranceclaim  \n",
       "0               1  \n",
       "1               1  \n",
       "2               0  \n",
       "3               0  \n",
       "4               1  "
      ]
     },
     "execution_count": 301,
     "metadata": {},
     "output_type": "execute_result"
    }
   ],
   "source": [
    "# Creating a copy of the DataFrame to be used in Model Builiding.\n",
    "data = data_complete\n",
    "data.head()"
   ]
  },
  {
   "cell_type": "code",
   "execution_count": 302,
   "id": "c64eb1f6",
   "metadata": {
    "scrolled": true
   },
   "outputs": [
    {
     "data": {
      "text/plain": [
       "<AxesSubplot:>"
      ]
     },
     "execution_count": 302,
     "metadata": {},
     "output_type": "execute_result"
    },
    {
     "data": {
      "image/png": "[encoded data removed]",
      "text/plain": [
       "<Figure size 1152x360 with 2 Axes>"
      ]
     },
     "metadata": {},
     "output_type": "display_data"
    }
   ],
   "source": [
    "# Plotting a Heatmap to infer the correlation amongst the various attributes.\n",
    "sns.heatmap(data.corr(),annot=True , fmt= \".2f\")"
   ]
  },
  {
   "cell_type": "code",
   "execution_count": 303,
   "id": "0e29573a",
   "metadata": {},
   "outputs": [
    {
     "data": {
      "text/plain": [
       "(1338, 9)"
      ]
     },
     "execution_count": 303,
     "metadata": {},
     "output_type": "execute_result"
    }
   ],
   "source": [
    "data.shape"
   ]
  },
  {
   "cell_type": "markdown",
   "id": "e1992699",
   "metadata": {},
   "source": [
    "# Section-2 : Data Visualization"
   ]
  },
  {
   "cell_type": "code",
   "execution_count": 304,
   "id": "4c8161e9",
   "metadata": {},
   "outputs": [
    {
     "data": {
      "image/png": "[encoded data removed]",
      "text/plain": [
       "<Figure size 1152x360 with 1 Axes>"
      ]
     },
     "metadata": {},
     "output_type": "display_data"
    }
   ],
   "source": [
    "#Plotting Variation of Health Insurance Charges with Age.\n",
    "import numpy as np\n",
    "import matplotlib.pyplot as plt\n",
    "\n",
    "data_viz = data.groupby('age').mean()\n",
    "plt.bar(data_viz.index, data_viz['charges'])\n",
    "plt.xlabel('Age')\n",
    "plt.ylabel('Average Health Insurance Charges')\n",
    "plt.title(\"Variation of Health Insurance Charges with Age\", y=1.1)\n",
    "#calculate equation for trendline\n",
    "z = np.polyfit(data_viz.index, data_viz['charges'], 1)\n",
    "p = np.poly1d(z)\n",
    "\n",
    "#add trendline to plot\n",
    "plt.plot(data_viz.index, p(data_viz.index), color=\"red\", linewidth=3, linestyle=\"--\")\n",
    "plt.grid()\n",
    "plt.show()"
   ]
  },
  {
   "cell_type": "code",
   "execution_count": 305,
   "id": "357c0f01",
   "metadata": {},
   "outputs": [
    {
     "data": {
      "image/png": "[encoded data removed]",
      "text/plain": [
       "<Figure size 1152x360 with 1 Axes>"
      ]
     },
     "metadata": {},
     "output_type": "display_data"
    }
   ],
   "source": [
    "#Plotting Variation of Health Insurance Charges with BMI.\n",
    "plt.xlabel('BMI')\n",
    "plt.ylabel('Health Insurance Charges')\n",
    "plt.title(\"Variation of Health Insurance Charges with BMI\", y=1.1)\n",
    "plt.scatter(data['bmi'], data['charges'])\n",
    "plt.grid()\n",
    "plt.xlim([15,50])\n",
    "\n",
    "#plt.scatter(x, y, c =\"blue\")\n",
    "z = np.polyfit(data['bmi'], data['charges'], 1)\n",
    "p = np.poly1d(z)\n",
    "plt.plot(data['bmi'],p(data['bmi']),color=\"red\", linewidth=1, linestyle=\"--\")\n",
    "\n",
    "plt.show()"
   ]
  },
  {
   "cell_type": "code",
   "execution_count": 306,
   "id": "6ede8956",
   "metadata": {},
   "outputs": [
    {
     "data": {
      "image/png": "[encoded data removed]",
      "text/plain": [
       "<Figure size 1152x360 with 1 Axes>"
      ]
     },
     "metadata": {},
     "output_type": "display_data"
    }
   ],
   "source": [
    "#Plotting Variation of Health Insurance Charges with Steps.\n",
    "plt.xlabel('Steps')\n",
    "plt.ylabel('Health Insurance Charges')\n",
    "plt.title(\"Variation of Health Insurance Charges with Steps\", y=1.1)\n",
    "plt.scatter(data['steps'], data['charges'])\n",
    "plt.grid()\n",
    "plt.xlim([2000,12000])\n",
    "\n",
    "#plt.scatter(x, y, c =\"blue\")\n",
    "z = np.polyfit(data['steps'], data['charges'], 1)\n",
    "p = np.poly1d(z)\n",
    "plt.plot(data['steps'],p(data['steps']),color=\"red\", linewidth=1, linestyle=\"--\")\n",
    "\n",
    "plt.show()"
   ]
  },
  {
   "cell_type": "code",
   "execution_count": 307,
   "id": "df413789",
   "metadata": {},
   "outputs": [
    {
     "data": {
      "image/png": "[encoded data removed]",
      "text/plain": [
       "<Figure size 1152x360 with 1 Axes>"
      ]
     },
     "metadata": {},
     "output_type": "display_data"
    }
   ],
   "source": [
    "#Plotting Variation of Health Insurance Charges with Smoker/Non-Smoker.\n",
    "fig = sns.barplot(x = data.smoker, y = data.charges, palette = ['tab:green', 'tab:red'], ci = None)\n",
    "fig.set_xticklabels([\"Non-Smoker\",\"Smoker\"])\n",
    "plt.xlabel(\"Smoker/Non-Smoker\")\n",
    "plt.ylabel(\"Average Health Insurance Charges\")\n",
    "plt.title(\"Variation of Health Insurance Charges with Smoker/Non-Smoker\") # You can comment this line out if you don't need title\n",
    "plt.show(fig)"
   ]
  },
  {
   "cell_type": "markdown",
   "id": "c66a2f01",
   "metadata": {},
   "source": [
    "# Section-3.a : Model Building (Health Insurance Charges Prediction)"
   ]
  },
  {
   "cell_type": "markdown",
   "id": "2f2c50a9",
   "metadata": {},
   "source": [
    "# Partitioning the Data"
   ]
  },
  {
   "cell_type": "code",
   "execution_count": 308,
   "id": "b1ae4e16",
   "metadata": {},
   "outputs": [],
   "source": [
    "# Set up the dependent and the independent variables by dropping the Target Variable from the data frame.\n",
    "\n",
    "# The independent variables that are being used for model builiding are : \n",
    "# 1. age\n",
    "# 2. bmi\n",
    "# 3. steps\n",
    "# 4. smoker_yes \n",
    "\n",
    "# The target variable is : charges\n",
    "\n",
    "# X = Independent Variables/Feature Matrix\n",
    "# y = Taget Variable/Response Vector\n",
    "\n",
    "X = data.drop(['sex','children','region','charges','insuranceclaim'],axis=1)\n",
    "y = data['charges']\n",
    "\n",
    "#X = data.drop(['insuranceclaim'],axis=1) \n",
    "#y = data['insuranceclaim']"
   ]
  },
  {
   "cell_type": "code",
   "execution_count": 309,
   "id": "0b40f85a",
   "metadata": {},
   "outputs": [
    {
     "data": {
      "text/html": [
       "<div>\n",
       "<style scoped>\n",
       "    .dataframe tbody tr th:only-of-type {\n",
       "        vertical-align: middle;\n",
       "    }\n",
       "\n",
       "    .dataframe tbody tr th {\n",
       "        vertical-align: top;\n",
       "    }\n",
       "\n",
       "    .dataframe thead th {\n",
       "        text-align: right;\n",
       "    }\n",
       "</style>\n",
       "<table border=\"1\" class=\"dataframe\">\n",
       "  <thead>\n",
       "    <tr style=\"text-align: right;\">\n",
       "      <th></th>\n",
       "      <th>age</th>\n",
       "      <th>bmi</th>\n",
       "      <th>steps</th>\n",
       "      <th>smoker</th>\n",
       "    </tr>\n",
       "  </thead>\n",
       "  <tbody>\n",
       "    <tr>\n",
       "      <th>0</th>\n",
       "      <td>19</td>\n",
       "      <td>27.900</td>\n",
       "      <td>3009</td>\n",
       "      <td>1</td>\n",
       "    </tr>\n",
       "    <tr>\n",
       "      <th>1</th>\n",
       "      <td>18</td>\n",
       "      <td>33.770</td>\n",
       "      <td>3008</td>\n",
       "      <td>0</td>\n",
       "    </tr>\n",
       "    <tr>\n",
       "      <th>2</th>\n",
       "      <td>28</td>\n",
       "      <td>33.000</td>\n",
       "      <td>3009</td>\n",
       "      <td>0</td>\n",
       "    </tr>\n",
       "    <tr>\n",
       "      <th>3</th>\n",
       "      <td>33</td>\n",
       "      <td>22.705</td>\n",
       "      <td>10009</td>\n",
       "      <td>0</td>\n",
       "    </tr>\n",
       "    <tr>\n",
       "      <th>4</th>\n",
       "      <td>32</td>\n",
       "      <td>28.880</td>\n",
       "      <td>8010</td>\n",
       "      <td>0</td>\n",
       "    </tr>\n",
       "  </tbody>\n",
       "</table>\n",
       "</div>"
      ],
      "text/plain": [
       "   age     bmi  steps  smoker\n",
       "0   19  27.900   3009       1\n",
       "1   18  33.770   3008       0\n",
       "2   28  33.000   3009       0\n",
       "3   33  22.705  10009       0\n",
       "4   32  28.880   8010       0"
      ]
     },
     "execution_count": 309,
     "metadata": {},
     "output_type": "execute_result"
    }
   ],
   "source": [
    "# Making a copy of the attribute truncated complete dataset.\n",
    "data_trunc = X\n",
    "data_trunc.head()"
   ]
  },
  {
   "cell_type": "code",
   "execution_count": 310,
   "id": "c3851e6c",
   "metadata": {},
   "outputs": [
    {
     "data": {
      "text/html": [
       "<div>\n",
       "<style scoped>\n",
       "    .dataframe tbody tr th:only-of-type {\n",
       "        vertical-align: middle;\n",
       "    }\n",
       "\n",
       "    .dataframe tbody tr th {\n",
       "        vertical-align: top;\n",
       "    }\n",
       "\n",
       "    .dataframe thead th {\n",
       "        text-align: right;\n",
       "    }\n",
       "</style>\n",
       "<table border=\"1\" class=\"dataframe\">\n",
       "  <thead>\n",
       "    <tr style=\"text-align: right;\">\n",
       "      <th></th>\n",
       "      <th>age</th>\n",
       "      <th>bmi</th>\n",
       "      <th>steps</th>\n",
       "      <th>smoker</th>\n",
       "    </tr>\n",
       "  </thead>\n",
       "  <tbody>\n",
       "    <tr>\n",
       "      <th>0</th>\n",
       "      <td>19</td>\n",
       "      <td>27.900</td>\n",
       "      <td>3009</td>\n",
       "      <td>1</td>\n",
       "    </tr>\n",
       "    <tr>\n",
       "      <th>1</th>\n",
       "      <td>18</td>\n",
       "      <td>33.770</td>\n",
       "      <td>3008</td>\n",
       "      <td>0</td>\n",
       "    </tr>\n",
       "    <tr>\n",
       "      <th>2</th>\n",
       "      <td>28</td>\n",
       "      <td>33.000</td>\n",
       "      <td>3009</td>\n",
       "      <td>0</td>\n",
       "    </tr>\n",
       "    <tr>\n",
       "      <th>3</th>\n",
       "      <td>33</td>\n",
       "      <td>22.705</td>\n",
       "      <td>10009</td>\n",
       "      <td>0</td>\n",
       "    </tr>\n",
       "    <tr>\n",
       "      <th>4</th>\n",
       "      <td>32</td>\n",
       "      <td>28.880</td>\n",
       "      <td>8010</td>\n",
       "      <td>0</td>\n",
       "    </tr>\n",
       "  </tbody>\n",
       "</table>\n",
       "</div>"
      ],
      "text/plain": [
       "   age     bmi  steps  smoker\n",
       "0   19  27.900   3009       1\n",
       "1   18  33.770   3008       0\n",
       "2   28  33.000   3009       0\n",
       "3   33  22.705  10009       0\n",
       "4   32  28.880   8010       0"
      ]
     },
     "execution_count": 310,
     "metadata": {},
     "output_type": "execute_result"
    }
   ],
   "source": [
    "X.head()"
   ]
  },
  {
   "cell_type": "code",
   "execution_count": 311,
   "id": "4cec2270",
   "metadata": {},
   "outputs": [
    {
     "data": {
      "text/plain": [
       "0    16884.92400\n",
       "1     1725.55230\n",
       "2     4449.46200\n",
       "3    21984.47061\n",
       "4     3866.85520\n",
       "Name: charges, dtype: float64"
      ]
     },
     "execution_count": 311,
     "metadata": {},
     "output_type": "execute_result"
    }
   ],
   "source": [
    "y.head()"
   ]
  },
  {
   "cell_type": "code",
   "execution_count": 312,
   "id": "1e7b7028",
   "metadata": {},
   "outputs": [
    {
     "name": "stdout",
     "output_type": "stream",
     "text": [
      "(1070, 4)\n",
      "(268, 4)\n",
      "(1070,)\n",
      "(268,)\n"
     ]
    }
   ],
   "source": [
    "# Splitting the data : X and y into Training Data and Test Data.\n",
    "from sklearn.model_selection import train_test_split\n",
    "X_train,X_test,y_train,y_test=train_test_split(X,y,test_size=0.2,random_state=1)\n",
    "\n",
    "# Having a glance at the shape of the Training Data and the Test Data.\n",
    "print(X_train.shape)\n",
    "print(X_test.shape)\n",
    "print(y_train.shape)\n",
    "print(y_test.shape)"
   ]
  },
  {
   "cell_type": "markdown",
   "id": "5b81d4fd",
   "metadata": {},
   "source": [
    "# Model Implementation"
   ]
  },
  {
   "cell_type": "markdown",
   "id": "ad4f76ee",
   "metadata": {},
   "source": [
    "#### 1. Linear Regression\n",
    "#### 2. Random Forest\n",
    "#### 3. Support Vector Machine\n",
    "#### 4. XG Gradient Boost"
   ]
  },
  {
   "cell_type": "code",
   "execution_count": 313,
   "id": "6df04e07",
   "metadata": {},
   "outputs": [],
   "source": [
    "# Impoting the necessary Libraries & Packages for Model Building.\n",
    "from sklearn.linear_model import LinearRegression\n",
    "from sklearn.ensemble import RandomForestRegressor\n",
    "from sklearn.svm import SVR\n",
    "from sklearn.ensemble import GradientBoostingRegressor\n",
    "from sklearn.ensemble import GradientBoostingClassifier\n",
    "from sklearn.ensemble import RandomForestClassifier"
   ]
  },
  {
   "cell_type": "markdown",
   "id": "8fbfc520",
   "metadata": {},
   "source": [
    "## 1. Linear Regression"
   ]
  },
  {
   "cell_type": "code",
   "execution_count": 314,
   "id": "36ac220e",
   "metadata": {},
   "outputs": [
    {
     "data": {
      "text/html": [
       "<div>\n",
       "<style scoped>\n",
       "    .dataframe tbody tr th:only-of-type {\n",
       "        vertical-align: middle;\n",
       "    }\n",
       "\n",
       "    .dataframe tbody tr th {\n",
       "        vertical-align: top;\n",
       "    }\n",
       "\n",
       "    .dataframe thead th {\n",
       "        text-align: right;\n",
       "    }\n",
       "</style>\n",
       "<table border=\"1\" class=\"dataframe\">\n",
       "  <thead>\n",
       "    <tr style=\"text-align: right;\">\n",
       "      <th></th>\n",
       "      <th>age</th>\n",
       "      <th>bmi</th>\n",
       "      <th>steps</th>\n",
       "      <th>smoker</th>\n",
       "    </tr>\n",
       "  </thead>\n",
       "  <tbody>\n",
       "    <tr>\n",
       "      <th>0</th>\n",
       "      <td>270.142924</td>\n",
       "      <td>492.647522</td>\n",
       "      <td>0.706145</td>\n",
       "      <td>24852.517088</td>\n",
       "    </tr>\n",
       "  </tbody>\n",
       "</table>\n",
       "</div>"
      ],
      "text/plain": [
       "          age         bmi     steps        smoker\n",
       "0  270.142924  492.647522  0.706145  24852.517088"
      ]
     },
     "execution_count": 314,
     "metadata": {},
     "output_type": "execute_result"
    }
   ],
   "source": [
    "# Creating a Linear Regression object.\n",
    "linear_reg = LinearRegression()\n",
    "\n",
    "# Training the Linear Regression model using the Training Data.\n",
    "linear_reg.fit(X_train,y_train)\n",
    "\n",
    "# Evaluating the coefficients that the model has generated.\n",
    "coeffs = pd.DataFrame(linear_reg.coef_, index=X.columns).transpose()\n",
    "coeffs"
   ]
  },
  {
   "cell_type": "code",
   "execution_count": 315,
   "id": "019838de",
   "metadata": {},
   "outputs": [
    {
     "data": {
      "text/html": [
       "<div>\n",
       "<style scoped>\n",
       "    .dataframe tbody tr th:only-of-type {\n",
       "        vertical-align: middle;\n",
       "    }\n",
       "\n",
       "    .dataframe tbody tr th {\n",
       "        vertical-align: top;\n",
       "    }\n",
       "\n",
       "    .dataframe thead th {\n",
       "        text-align: right;\n",
       "    }\n",
       "</style>\n",
       "<table border=\"1\" class=\"dataframe\">\n",
       "  <thead>\n",
       "    <tr style=\"text-align: right;\">\n",
       "      <th></th>\n",
       "      <th>Predicted</th>\n",
       "      <th>Actual</th>\n",
       "    </tr>\n",
       "  </thead>\n",
       "  <tbody>\n",
       "    <tr>\n",
       "      <th>559</th>\n",
       "      <td>3476.298040</td>\n",
       "      <td>1646.42970</td>\n",
       "    </tr>\n",
       "    <tr>\n",
       "      <th>1087</th>\n",
       "      <td>11779.596268</td>\n",
       "      <td>11353.22760</td>\n",
       "    </tr>\n",
       "    <tr>\n",
       "      <th>1020</th>\n",
       "      <td>13552.620748</td>\n",
       "      <td>8798.59300</td>\n",
       "    </tr>\n",
       "    <tr>\n",
       "      <th>460</th>\n",
       "      <td>12126.734908</td>\n",
       "      <td>10381.47870</td>\n",
       "    </tr>\n",
       "    <tr>\n",
       "      <th>802</th>\n",
       "      <td>2446.108955</td>\n",
       "      <td>2103.08000</td>\n",
       "    </tr>\n",
       "    <tr>\n",
       "      <th>...</th>\n",
       "      <td>...</td>\n",
       "      <td>...</td>\n",
       "    </tr>\n",
       "    <tr>\n",
       "      <th>682</th>\n",
       "      <td>33619.776971</td>\n",
       "      <td>40103.89000</td>\n",
       "    </tr>\n",
       "    <tr>\n",
       "      <th>629</th>\n",
       "      <td>36771.479628</td>\n",
       "      <td>42983.45850</td>\n",
       "    </tr>\n",
       "    <tr>\n",
       "      <th>893</th>\n",
       "      <td>37574.157345</td>\n",
       "      <td>44202.65360</td>\n",
       "    </tr>\n",
       "    <tr>\n",
       "      <th>807</th>\n",
       "      <td>3988.996266</td>\n",
       "      <td>2136.88225</td>\n",
       "    </tr>\n",
       "    <tr>\n",
       "      <th>1165</th>\n",
       "      <td>6694.547530</td>\n",
       "      <td>5227.98875</td>\n",
       "    </tr>\n",
       "  </tbody>\n",
       "</table>\n",
       "<p>268 rows × 2 columns</p>\n",
       "</div>"
      ],
      "text/plain": [
       "         Predicted       Actual\n",
       "559    3476.298040   1646.42970\n",
       "1087  11779.596268  11353.22760\n",
       "1020  13552.620748   8798.59300\n",
       "460   12126.734908  10381.47870\n",
       "802    2446.108955   2103.08000\n",
       "...            ...          ...\n",
       "682   33619.776971  40103.89000\n",
       "629   36771.479628  42983.45850\n",
       "893   37574.157345  44202.65360\n",
       "807    3988.996266   2136.88225\n",
       "1165   6694.547530   5227.98875\n",
       "\n",
       "[268 rows x 2 columns]"
      ]
     },
     "execution_count": 315,
     "metadata": {},
     "output_type": "execute_result"
    }
   ],
   "source": [
    "# Comparing the predicted values to the actual values on Test Data.\n",
    "test_pred_lr = linear_reg.predict(X_test)\n",
    "test_pred_lr_comparison = pd.DataFrame({\"Predicted\":test_pred_lr,\"Actual\":y_test})\n",
    "test_pred_lr_comparison"
   ]
  },
  {
   "cell_type": "code",
   "execution_count": 316,
   "id": "78ad7632",
   "metadata": {},
   "outputs": [],
   "source": [
    "# Comparing the predicted values to the actual values on Training Data.\n",
    "train_pred_lr = linear_reg.predict(X_train)\n",
    "train_pred_lr_comparison = pd.DataFrame({\"Predicted\":train_pred_lr,\"Actual\":y_train})\n",
    "#train_pred_lr_comparison"
   ]
  },
  {
   "cell_type": "code",
   "execution_count": 317,
   "id": "e832c25d",
   "metadata": {
    "scrolled": true
   },
   "outputs": [
    {
     "name": "stdout",
     "output_type": "stream",
     "text": [
      "\n",
      "Mean Absolute Error :  3989.4435786846025\n",
      "\n",
      "Mean Squared Error :  34416850.95548388\n",
      "\n",
      "Root Mean Squared Error :  5866.587675598472\n",
      "\n",
      "Variance Score for the Linear Regression Model :  0.7694486636353987\n"
     ]
    }
   ],
   "source": [
    "# Evaluating the model for accuracy on Test Data.\n",
    "print(\"\\nMean Absolute Error : \", metrics.mean_absolute_error(y_test, test_pred_lr))\n",
    "print(\"\\nMean Squared Error : \", metrics.mean_squared_error(y_test, test_pred_lr))\n",
    "print(\"\\nRoot Mean Squared Error : \", np.sqrt(metrics.mean_squared_error(y_test, test_pred_lr)))\n",
    "\n",
    "#Evaluating the variance score. (Note: score = 1 means perfect prediction.)\n",
    "r2_lr_test = format(linear_reg.score(X_test, y_test))\n",
    "print(\"\\nVariance Score for the Linear Regression Model : \",r2_lr_test)"
   ]
  },
  {
   "cell_type": "code",
   "execution_count": 318,
   "id": "1e53f2b4",
   "metadata": {
    "scrolled": true
   },
   "outputs": [
    {
     "name": "stdout",
     "output_type": "stream",
     "text": [
      "\n",
      "Mean Absolute Error :  4086.9889746852673\n",
      "\n",
      "Mean Squared Error :  35800201.79507746\n",
      "\n",
      "Root Mean Squared Error :  5983.32698380069\n",
      "\n",
      "Variance Score for the Linear Regression Model :  0.7545391474616814\n"
     ]
    }
   ],
   "source": [
    "# Evaluating the model for accuracy on Training Data to identify overfitting (if any.)\n",
    "print(\"\\nMean Absolute Error : \", metrics.mean_absolute_error(y_train, train_pred_lr))\n",
    "print(\"\\nMean Squared Error : \", metrics.mean_squared_error(y_train, train_pred_lr))\n",
    "print(\"\\nRoot Mean Squared Error : \", np.sqrt(metrics.mean_squared_error(y_train, train_pred_lr)))\n",
    "\n",
    "#Evaluating the variance score. (Note: score = 1 means perfect prediction.)\n",
    "r2_lr_train = format(linear_reg.score(X_train, y_train))\n",
    "print(\"\\nVariance Score for the Linear Regression Model : \",r2_lr_train)"
   ]
  },
  {
   "cell_type": "code",
   "execution_count": 319,
   "id": "d4861bc8",
   "metadata": {
    "scrolled": true
   },
   "outputs": [
    {
     "data": {
      "image/png": "[encoded data removed]",
      "text/plain": [
       "<Figure size 1152x360 with 1 Axes>"
      ]
     },
     "metadata": {},
     "output_type": "display_data"
    }
   ],
   "source": [
    "# Plotting for residual error.\n",
    "# Setting plot style.\n",
    "plt.style.use('fivethirtyeight')\n",
    "  \n",
    "# Plotting residual errors in training data.\n",
    "plt.scatter(linear_reg.predict(X_train), linear_reg.predict(X_train) - y_train,\n",
    "            color = \"green\", s = 1, label = 'Training Data')\n",
    "  \n",
    "# Plotting residual errors in test data.\n",
    "plt.scatter(linear_reg.predict(X_test), linear_reg.predict(X_test) - y_test,\n",
    "            color = \"blue\", s = 1, label = 'Test Data')\n",
    "  \n",
    "# Plotting line for zero residual error.\n",
    "plt.hlines(y = 0, xmin = 0, xmax = 5, linewidth = 2)\n",
    "  \n",
    "# Plotting the legend.\n",
    "plt.legend(loc = 'upper right')\n",
    "  \n",
    "# Plot the title.\n",
    "plt.title(\"Residual Errors, Model : Linear Regression\")\n",
    "  \n",
    "# Method call for displaying the plot.\n",
    "plt.show()"
   ]
  },
  {
   "cell_type": "markdown",
   "id": "cb5887b7",
   "metadata": {},
   "source": [
    "## 2. Random Forest"
   ]
  },
  {
   "cell_type": "code",
   "execution_count": 320,
   "id": "d61637b2",
   "metadata": {},
   "outputs": [
    {
     "data": {
      "text/plain": [
       "RandomForestRegressor()"
      ]
     },
     "execution_count": 320,
     "metadata": {},
     "output_type": "execute_result"
    }
   ],
   "source": [
    "# Creating a Random Forest object.\n",
    "random_for = RandomForestRegressor()\n",
    "\n",
    "# Training the Linear Regression model using the Training Data.\n",
    "random_for.fit(X_train,y_train)"
   ]
  },
  {
   "cell_type": "code",
   "execution_count": 321,
   "id": "e4ca2099",
   "metadata": {},
   "outputs": [
    {
     "data": {
      "text/html": [
       "<div>\n",
       "<style scoped>\n",
       "    .dataframe tbody tr th:only-of-type {\n",
       "        vertical-align: middle;\n",
       "    }\n",
       "\n",
       "    .dataframe tbody tr th {\n",
       "        vertical-align: top;\n",
       "    }\n",
       "\n",
       "    .dataframe thead th {\n",
       "        text-align: right;\n",
       "    }\n",
       "</style>\n",
       "<table border=\"1\" class=\"dataframe\">\n",
       "  <thead>\n",
       "    <tr style=\"text-align: right;\">\n",
       "      <th></th>\n",
       "      <th>Predicted</th>\n",
       "      <th>Actual</th>\n",
       "    </tr>\n",
       "  </thead>\n",
       "  <tbody>\n",
       "    <tr>\n",
       "      <th>559</th>\n",
       "      <td>3232.011733</td>\n",
       "      <td>1646.42970</td>\n",
       "    </tr>\n",
       "    <tr>\n",
       "      <th>1087</th>\n",
       "      <td>12518.052971</td>\n",
       "      <td>11353.22760</td>\n",
       "    </tr>\n",
       "    <tr>\n",
       "      <th>1020</th>\n",
       "      <td>11346.070608</td>\n",
       "      <td>8798.59300</td>\n",
       "    </tr>\n",
       "    <tr>\n",
       "      <th>460</th>\n",
       "      <td>9676.232262</td>\n",
       "      <td>10381.47870</td>\n",
       "    </tr>\n",
       "    <tr>\n",
       "      <th>802</th>\n",
       "      <td>5466.293887</td>\n",
       "      <td>2103.08000</td>\n",
       "    </tr>\n",
       "    <tr>\n",
       "      <th>...</th>\n",
       "      <td>...</td>\n",
       "      <td>...</td>\n",
       "    </tr>\n",
       "    <tr>\n",
       "      <th>682</th>\n",
       "      <td>43802.220952</td>\n",
       "      <td>40103.89000</td>\n",
       "    </tr>\n",
       "    <tr>\n",
       "      <th>629</th>\n",
       "      <td>46102.641049</td>\n",
       "      <td>42983.45850</td>\n",
       "    </tr>\n",
       "    <tr>\n",
       "      <th>893</th>\n",
       "      <td>46248.892339</td>\n",
       "      <td>44202.65360</td>\n",
       "    </tr>\n",
       "    <tr>\n",
       "      <th>807</th>\n",
       "      <td>2720.720010</td>\n",
       "      <td>2136.88225</td>\n",
       "    </tr>\n",
       "    <tr>\n",
       "      <th>1165</th>\n",
       "      <td>4999.554447</td>\n",
       "      <td>5227.98875</td>\n",
       "    </tr>\n",
       "  </tbody>\n",
       "</table>\n",
       "<p>268 rows × 2 columns</p>\n",
       "</div>"
      ],
      "text/plain": [
       "         Predicted       Actual\n",
       "559    3232.011733   1646.42970\n",
       "1087  12518.052971  11353.22760\n",
       "1020  11346.070608   8798.59300\n",
       "460    9676.232262  10381.47870\n",
       "802    5466.293887   2103.08000\n",
       "...            ...          ...\n",
       "682   43802.220952  40103.89000\n",
       "629   46102.641049  42983.45850\n",
       "893   46248.892339  44202.65360\n",
       "807    2720.720010   2136.88225\n",
       "1165   4999.554447   5227.98875\n",
       "\n",
       "[268 rows x 2 columns]"
      ]
     },
     "execution_count": 321,
     "metadata": {},
     "output_type": "execute_result"
    }
   ],
   "source": [
    "# Comparing the predicted values to the actual values on Test Data.\n",
    "test_pred_rf = random_for.predict(X_test)\n",
    "test_pred_rf_comparison = pd.DataFrame({\"Predicted\":test_pred_rf,\"Actual\":y_test})\n",
    "test_pred_rf_comparison"
   ]
  },
  {
   "cell_type": "code",
   "execution_count": 322,
   "id": "12c18203",
   "metadata": {},
   "outputs": [],
   "source": [
    "# Comparing the predicted values to the actual values on Training Data.\n",
    "train_pred_rf = random_for.predict(X_train)\n",
    "train_pred_rf_comparison = pd.DataFrame({\"Predicted\":train_pred_rf,\"Actual\":y_train})\n",
    "#train_pred_rf_comparison"
   ]
  },
  {
   "cell_type": "code",
   "execution_count": 323,
   "id": "653975c7",
   "metadata": {},
   "outputs": [
    {
     "name": "stdout",
     "output_type": "stream",
     "text": [
      "\n",
      "Mean Absolute Error :  3004.4548752119395\n",
      "\n",
      "Mean Squared Error :  24595043.061960388\n",
      "\n",
      "Root Mean Squared Error :  4959.338974294899\n",
      "\n",
      "Variance Score for the Random Forest Model :  0.8352429147799074\n"
     ]
    }
   ],
   "source": [
    "# Evaluating the model for accuracy on Test Data.\n",
    "print(\"\\nMean Absolute Error : \", metrics.mean_absolute_error(y_test, test_pred_rf))\n",
    "print(\"\\nMean Squared Error : \", metrics.mean_squared_error(y_test, test_pred_rf))\n",
    "print(\"\\nRoot Mean Squared Error : \", np.sqrt(metrics.mean_squared_error(y_test, test_pred_rf)))\n",
    "\n",
    "#Evaluating the variance score. (Note: score = 1 means perfect prediction.)\n",
    "r2_rf_test = format(random_for.score(X_test, y_test))\n",
    "print(\"\\nVariance Score for the Random Forest Model : \",r2_rf_test)"
   ]
  },
  {
   "cell_type": "code",
   "execution_count": 324,
   "id": "2e5c3cd3",
   "metadata": {},
   "outputs": [
    {
     "name": "stdout",
     "output_type": "stream",
     "text": [
      "\n",
      "Mean Absolute Error :  1067.1189205792145\n",
      "\n",
      "Mean Squared Error :  3539522.58251797\n",
      "\n",
      "Root Mean Squared Error :  1881.3618956803525\n",
      "\n",
      "Variance Score for the Random Forest Model :  0.9757315828649057\n"
     ]
    }
   ],
   "source": [
    "# Evaluating the model for accuracy on Training Data to identify overfitting (if any.)\n",
    "print(\"\\nMean Absolute Error : \", metrics.mean_absolute_error(y_train, train_pred_rf))\n",
    "print(\"\\nMean Squared Error : \", metrics.mean_squared_error(y_train, train_pred_rf))\n",
    "print(\"\\nRoot Mean Squared Error : \", np.sqrt(metrics.mean_squared_error(y_train, train_pred_rf)))\n",
    "\n",
    "#Evaluating the variance score. (Note: score = 1 means perfect prediction.)\n",
    "r2_rf_train = format(random_for.score(X_train, y_train))\n",
    "print(\"\\nVariance Score for the Random Forest Model : \",r2_rf_train)"
   ]
  },
  {
   "cell_type": "code",
   "execution_count": 325,
   "id": "50cf777c",
   "metadata": {},
   "outputs": [
    {
     "data": {
      "image/png": "[encoded data removed]",
      "text/plain": [
       "<Figure size 1152x360 with 1 Axes>"
      ]
     },
     "metadata": {},
     "output_type": "display_data"
    }
   ],
   "source": [
    "# Plotting for residual error.\n",
    "# Setting plot style.\n",
    "plt.style.use('fivethirtyeight')\n",
    "  \n",
    "# Plotting residual errors in training data.\n",
    "plt.scatter(random_for.predict(X_train), random_for.predict(X_train) - y_train,\n",
    "            color = \"green\", s = 1, label = 'Training Data')\n",
    "  \n",
    "# Plotting residual errors in test data.\n",
    "plt.scatter(random_for.predict(X_test), random_for.predict(X_test) - y_test,\n",
    "            color = \"blue\", s = 1, label = 'Test Data')\n",
    "  \n",
    "# Plotting line for zero residual error.\n",
    "plt.hlines(y = 0, xmin = 0, xmax = 5, linewidth = 2)\n",
    "  \n",
    "# Plotting the legend.\n",
    "plt.legend(loc = 'upper right')\n",
    "  \n",
    "# Plot the title.\n",
    "plt.title(\"Residual Errors, Model : Random Forest\")\n",
    "  \n",
    "# Method call for displaying the plot.\n",
    "plt.show()"
   ]
  },
  {
   "cell_type": "markdown",
   "id": "8b02f5b6",
   "metadata": {},
   "source": [
    "## 3. Support Vector Machine"
   ]
  },
  {
   "cell_type": "code",
   "execution_count": 326,
   "id": "80576c08",
   "metadata": {},
   "outputs": [
    {
     "data": {
      "text/plain": [
       "SVR()"
      ]
     },
     "execution_count": 326,
     "metadata": {},
     "output_type": "execute_result"
    }
   ],
   "source": [
    "# Creating a Support Vector Machine object.\n",
    "svm = SVR()\n",
    "\n",
    "# Training the Support Vector Machine using the Training Data.\n",
    "svm.fit(X_train,y_train)"
   ]
  },
  {
   "cell_type": "code",
   "execution_count": 327,
   "id": "8236f7c3",
   "metadata": {},
   "outputs": [
    {
     "data": {
      "text/html": [
       "<div>\n",
       "<style scoped>\n",
       "    .dataframe tbody tr th:only-of-type {\n",
       "        vertical-align: middle;\n",
       "    }\n",
       "\n",
       "    .dataframe tbody tr th {\n",
       "        vertical-align: top;\n",
       "    }\n",
       "\n",
       "    .dataframe thead th {\n",
       "        text-align: right;\n",
       "    }\n",
       "</style>\n",
       "<table border=\"1\" class=\"dataframe\">\n",
       "  <thead>\n",
       "    <tr style=\"text-align: right;\">\n",
       "      <th></th>\n",
       "      <th>Predicted</th>\n",
       "      <th>Actual</th>\n",
       "    </tr>\n",
       "  </thead>\n",
       "  <tbody>\n",
       "    <tr>\n",
       "      <th>559</th>\n",
       "      <td>9377.280450</td>\n",
       "      <td>1646.42970</td>\n",
       "    </tr>\n",
       "    <tr>\n",
       "      <th>1087</th>\n",
       "      <td>9377.257365</td>\n",
       "      <td>11353.22760</td>\n",
       "    </tr>\n",
       "    <tr>\n",
       "      <th>1020</th>\n",
       "      <td>9361.993156</td>\n",
       "      <td>8798.59300</td>\n",
       "    </tr>\n",
       "    <tr>\n",
       "      <th>460</th>\n",
       "      <td>9377.246878</td>\n",
       "      <td>10381.47870</td>\n",
       "    </tr>\n",
       "    <tr>\n",
       "      <th>802</th>\n",
       "      <td>9165.084649</td>\n",
       "      <td>2103.08000</td>\n",
       "    </tr>\n",
       "    <tr>\n",
       "      <th>...</th>\n",
       "      <td>...</td>\n",
       "      <td>...</td>\n",
       "    </tr>\n",
       "    <tr>\n",
       "      <th>682</th>\n",
       "      <td>9377.274672</td>\n",
       "      <td>40103.89000</td>\n",
       "    </tr>\n",
       "    <tr>\n",
       "      <th>629</th>\n",
       "      <td>9377.244970</td>\n",
       "      <td>42983.45850</td>\n",
       "    </tr>\n",
       "    <tr>\n",
       "      <th>893</th>\n",
       "      <td>9377.277521</td>\n",
       "      <td>44202.65360</td>\n",
       "    </tr>\n",
       "    <tr>\n",
       "      <th>807</th>\n",
       "      <td>9377.303758</td>\n",
       "      <td>2136.88225</td>\n",
       "    </tr>\n",
       "    <tr>\n",
       "      <th>1165</th>\n",
       "      <td>9209.684314</td>\n",
       "      <td>5227.98875</td>\n",
       "    </tr>\n",
       "  </tbody>\n",
       "</table>\n",
       "<p>268 rows × 2 columns</p>\n",
       "</div>"
      ],
      "text/plain": [
       "        Predicted       Actual\n",
       "559   9377.280450   1646.42970\n",
       "1087  9377.257365  11353.22760\n",
       "1020  9361.993156   8798.59300\n",
       "460   9377.246878  10381.47870\n",
       "802   9165.084649   2103.08000\n",
       "...           ...          ...\n",
       "682   9377.274672  40103.89000\n",
       "629   9377.244970  42983.45850\n",
       "893   9377.277521  44202.65360\n",
       "807   9377.303758   2136.88225\n",
       "1165  9209.684314   5227.98875\n",
       "\n",
       "[268 rows x 2 columns]"
      ]
     },
     "execution_count": 327,
     "metadata": {},
     "output_type": "execute_result"
    }
   ],
   "source": [
    "# Comparing the predicted values to the actual values on Test Data.\n",
    "test_pred_svm = svm.predict(X_test)\n",
    "test_pred_svm_comparison = pd.DataFrame({\"Predicted\":test_pred_svm,\"Actual\":y_test})\n",
    "test_pred_svm_comparison"
   ]
  },
  {
   "cell_type": "code",
   "execution_count": 328,
   "id": "d1713b72",
   "metadata": {},
   "outputs": [],
   "source": [
    "# Comparing the predicted values to the actual values on Training Data.\n",
    "train_pred_svm = svm.predict(X_train)\n",
    "train_pred_svm_comparison = pd.DataFrame({\"Predicted\":train_pred_svm,\"Actual\":y_train})\n",
    "#train_pred_svm_comparison"
   ]
  },
  {
   "cell_type": "code",
   "execution_count": 329,
   "id": "b17064f5",
   "metadata": {},
   "outputs": [
    {
     "name": "stdout",
     "output_type": "stream",
     "text": [
      "\n",
      "Mean Absolute Error :  8292.719232941981\n",
      "\n",
      "Mean Squared Error :  165588640.15746588\n",
      "\n",
      "Root Mean Squared Error :  12868.124966655627\n",
      "\n",
      "Variance Score for the SVM Model :  -0.10924390858652555\n"
     ]
    }
   ],
   "source": [
    "# Evaluating the model for accuracy on Test Data.\n",
    "print(\"\\nMean Absolute Error : \", metrics.mean_absolute_error(y_test, test_pred_svm))\n",
    "print(\"\\nMean Squared Error : \", metrics.mean_squared_error(y_test, test_pred_svm))\n",
    "print(\"\\nRoot Mean Squared Error : \", np.sqrt(metrics.mean_squared_error(y_test, test_pred_svm)))\n",
    "\n",
    "#Evaluating the variance score. (Note: score = 1 means perfect prediction.)\n",
    "svm_r2_test = format(svm.score(X_test, y_test))\n",
    "print(\"\\nVariance Score for the SVM Model : \", svm_r2_test)"
   ]
  },
  {
   "cell_type": "code",
   "execution_count": 330,
   "id": "7caeca33",
   "metadata": {},
   "outputs": [
    {
     "name": "stdout",
     "output_type": "stream",
     "text": [
      "\n",
      "Mean Absolute Error :  8332.812663005543\n",
      "\n",
      "Mean Squared Error :  160645737.4302956\n",
      "\n",
      "Root Mean Squared Error :  12674.609951801103\n",
      "\n",
      "Variance Score for the SVM Model :  -0.10145299995792745\n"
     ]
    }
   ],
   "source": [
    "# Evaluating the model for accuracy on Training Data.\n",
    "print(\"\\nMean Absolute Error : \", metrics.mean_absolute_error(y_train, train_pred_svm))\n",
    "print(\"\\nMean Squared Error : \", metrics.mean_squared_error(y_train, train_pred_svm))\n",
    "print(\"\\nRoot Mean Squared Error : \", np.sqrt(metrics.mean_squared_error(y_train, train_pred_svm)))\n",
    "\n",
    "#Evaluating the variance score. (Note: score = 1 means perfect prediction.)\n",
    "svm_r2_train = format(svm.score(X_train, y_train))\n",
    "print(\"\\nVariance Score for the SVM Model : \", svm_r2_train)"
   ]
  },
  {
   "cell_type": "code",
   "execution_count": 331,
   "id": "dd17bba0",
   "metadata": {},
   "outputs": [
    {
     "data": {
      "image/png": "[encoded data removed]",
      "text/plain": [
       "<Figure size 1152x360 with 1 Axes>"
      ]
     },
     "metadata": {},
     "output_type": "display_data"
    }
   ],
   "source": [
    "# Plotting for residual error.\n",
    "# Setting plot style.\n",
    "plt.style.use('fivethirtyeight')\n",
    "  \n",
    "# Plotting residual errors in training data.\n",
    "plt.scatter(svm.predict(X_train), svm.predict(X_train) - y_train,\n",
    "            color = \"green\", s = 1, label = 'Training Data')\n",
    "  \n",
    "# Plotting residual errors in test data.\n",
    "plt.scatter(svm.predict(X_test), svm.predict(X_test) - y_test,\n",
    "            color = \"blue\", s = 1, label = 'Test Data')\n",
    "  \n",
    "# Plotting line for zero residual error.\n",
    "plt.hlines(y = 0, xmin = 0, xmax = 5, linewidth = 2)\n",
    "  \n",
    "# Plotting the legend.\n",
    "plt.legend(loc = 'upper right')\n",
    "  \n",
    "# Plot the title.\n",
    "plt.title(\"Residual Errors, Model : Support Vector Machine\")\n",
    "  \n",
    "# Method call for displaying the plot.\n",
    "plt.show()"
   ]
  },
  {
   "cell_type": "markdown",
   "id": "9a2389b8",
   "metadata": {},
   "source": [
    "## 4. XG Gradient Boost"
   ]
  },
  {
   "cell_type": "code",
   "execution_count": 332,
   "id": "de61b996",
   "metadata": {},
   "outputs": [
    {
     "data": {
      "text/plain": [
       "GradientBoostingRegressor()"
      ]
     },
     "execution_count": 332,
     "metadata": {},
     "output_type": "execute_result"
    }
   ],
   "source": [
    "# Creating a Gradient Boost object.\n",
    "gr = GradientBoostingRegressor()\n",
    "\n",
    "# Training the XG Gradient Boost using the Training Data.\n",
    "gr.fit(X_train,y_train)"
   ]
  },
  {
   "cell_type": "code",
   "execution_count": 333,
   "id": "dcc9f4a9",
   "metadata": {},
   "outputs": [
    {
     "data": {
      "text/plain": [
       "(1070, 4)"
      ]
     },
     "execution_count": 333,
     "metadata": {},
     "output_type": "execute_result"
    }
   ],
   "source": [
    "X_train.shape"
   ]
  },
  {
   "cell_type": "code",
   "execution_count": 334,
   "id": "42d7e354",
   "metadata": {},
   "outputs": [
    {
     "data": {
      "text/html": [
       "<div>\n",
       "<style scoped>\n",
       "    .dataframe tbody tr th:only-of-type {\n",
       "        vertical-align: middle;\n",
       "    }\n",
       "\n",
       "    .dataframe tbody tr th {\n",
       "        vertical-align: top;\n",
       "    }\n",
       "\n",
       "    .dataframe thead th {\n",
       "        text-align: right;\n",
       "    }\n",
       "</style>\n",
       "<table border=\"1\" class=\"dataframe\">\n",
       "  <thead>\n",
       "    <tr style=\"text-align: right;\">\n",
       "      <th></th>\n",
       "      <th>Predicted</th>\n",
       "      <th>Actual</th>\n",
       "    </tr>\n",
       "  </thead>\n",
       "  <tbody>\n",
       "    <tr>\n",
       "      <th>559</th>\n",
       "      <td>3612.718475</td>\n",
       "      <td>1646.42970</td>\n",
       "    </tr>\n",
       "    <tr>\n",
       "      <th>1087</th>\n",
       "      <td>12983.225790</td>\n",
       "      <td>11353.22760</td>\n",
       "    </tr>\n",
       "    <tr>\n",
       "      <th>1020</th>\n",
       "      <td>11102.033513</td>\n",
       "      <td>8798.59300</td>\n",
       "    </tr>\n",
       "    <tr>\n",
       "      <th>460</th>\n",
       "      <td>11301.404305</td>\n",
       "      <td>10381.47870</td>\n",
       "    </tr>\n",
       "    <tr>\n",
       "      <th>802</th>\n",
       "      <td>5726.863461</td>\n",
       "      <td>2103.08000</td>\n",
       "    </tr>\n",
       "    <tr>\n",
       "      <th>...</th>\n",
       "      <td>...</td>\n",
       "      <td>...</td>\n",
       "    </tr>\n",
       "    <tr>\n",
       "      <th>682</th>\n",
       "      <td>40769.285348</td>\n",
       "      <td>40103.89000</td>\n",
       "    </tr>\n",
       "    <tr>\n",
       "      <th>629</th>\n",
       "      <td>44633.647535</td>\n",
       "      <td>42983.45850</td>\n",
       "    </tr>\n",
       "    <tr>\n",
       "      <th>893</th>\n",
       "      <td>44122.362088</td>\n",
       "      <td>44202.65360</td>\n",
       "    </tr>\n",
       "    <tr>\n",
       "      <th>807</th>\n",
       "      <td>3772.077914</td>\n",
       "      <td>2136.88225</td>\n",
       "    </tr>\n",
       "    <tr>\n",
       "      <th>1165</th>\n",
       "      <td>5879.907581</td>\n",
       "      <td>5227.98875</td>\n",
       "    </tr>\n",
       "  </tbody>\n",
       "</table>\n",
       "<p>268 rows × 2 columns</p>\n",
       "</div>"
      ],
      "text/plain": [
       "         Predicted       Actual\n",
       "559    3612.718475   1646.42970\n",
       "1087  12983.225790  11353.22760\n",
       "1020  11102.033513   8798.59300\n",
       "460   11301.404305  10381.47870\n",
       "802    5726.863461   2103.08000\n",
       "...            ...          ...\n",
       "682   40769.285348  40103.89000\n",
       "629   44633.647535  42983.45850\n",
       "893   44122.362088  44202.65360\n",
       "807    3772.077914   2136.88225\n",
       "1165   5879.907581   5227.98875\n",
       "\n",
       "[268 rows x 2 columns]"
      ]
     },
     "execution_count": 334,
     "metadata": {},
     "output_type": "execute_result"
    }
   ],
   "source": [
    "# Comparing the predicted values to the actual values on Test Data.\n",
    "test_pred_gr = gr.predict(X_test)\n",
    "test_pred_gr_comparison = pd.DataFrame({\"Predicted\":test_pred_gr,\"Actual\":y_test})\n",
    "test_pred_gr_comparison"
   ]
  },
  {
   "cell_type": "code",
   "execution_count": 335,
   "id": "fd969310",
   "metadata": {},
   "outputs": [],
   "source": [
    "# Comparing the predicted values to the actual values on Training Data.\n",
    "train_pred_gr = gr.predict(X_train)\n",
    "train_pred_gr_comparison = pd.DataFrame({\"Predicted\":train_pred_gr,\"Actual\":y_train})\n",
    "#train_pred_gr_comparison"
   ]
  },
  {
   "cell_type": "code",
   "execution_count": 336,
   "id": "931362eb",
   "metadata": {},
   "outputs": [
    {
     "name": "stdout",
     "output_type": "stream",
     "text": [
      "\n",
      "Mean Absolute Error :  2575.433875004012\n",
      "\n",
      "Mean Squared Error :  20464911.697358068\n",
      "\n",
      "Root Mean Squared Error :  4523.816054765939\n",
      "\n",
      "Variance Score for the XG Gradient Boost Model :  0.8629098069863456\n"
     ]
    }
   ],
   "source": [
    "# Evaluating the model for accuracy on Test Data.\n",
    "print(\"\\nMean Absolute Error : \", metrics.mean_absolute_error(y_test, test_pred_gr))\n",
    "print(\"\\nMean Squared Error : \", metrics.mean_squared_error(y_test, test_pred_gr))\n",
    "print(\"\\nRoot Mean Squared Error : \", np.sqrt(metrics.mean_squared_error(y_test, test_pred_gr)))\n",
    "\n",
    "#Evaluating the variance score. (Note: score = 1 means perfect prediction.)\n",
    "gr_r2_test = format(gr.score(X_test, y_test))\n",
    "print(\"\\nVariance Score for the XG Gradient Boost Model : \",gr_r2_test)"
   ]
  },
  {
   "cell_type": "code",
   "execution_count": 337,
   "id": "6a818b12",
   "metadata": {},
   "outputs": [
    {
     "name": "stdout",
     "output_type": "stream",
     "text": [
      "\n",
      "Mean Absolute Error :  2159.720001187096\n",
      "\n",
      "Mean Squared Error :  14881858.397710074\n",
      "\n",
      "Root Mean Squared Error :  3857.701180458392\n",
      "\n",
      "Variance Score for the XG Gradient Boost Model :  0.8979638810259799\n"
     ]
    }
   ],
   "source": [
    "# Evaluating the model for accuracy on Training Data.\n",
    "print(\"\\nMean Absolute Error : \", metrics.mean_absolute_error(y_train, train_pred_gr))\n",
    "print(\"\\nMean Squared Error : \", metrics.mean_squared_error(y_train, train_pred_gr))\n",
    "print(\"\\nRoot Mean Squared Error : \", np.sqrt(metrics.mean_squared_error(y_train, train_pred_gr)))\n",
    "\n",
    "#Evaluating the variance score. (Note: score = 1 means perfect prediction.)\n",
    "gr_r2_train = format(gr.score(X_train, y_train))\n",
    "print(\"\\nVariance Score for the XG Gradient Boost Model : \", gr_r2_train)"
   ]
  },
  {
   "cell_type": "code",
   "execution_count": 338,
   "id": "e5f12977",
   "metadata": {},
   "outputs": [
    {
     "data": {
      "image/png": "[encoded data removed]",
      "text/plain": [
       "<Figure size 1152x360 with 1 Axes>"
      ]
     },
     "metadata": {},
     "output_type": "display_data"
    }
   ],
   "source": [
    "# Plotting for residual error.\n",
    "# Setting plot style.\n",
    "plt.style.use('fivethirtyeight')\n",
    "  \n",
    "# Plotting residual errors in training data.\n",
    "plt.scatter(gr.predict(X_train), gr.predict(X_train) - y_train,\n",
    "            color = \"green\", s = 1, label = 'Training Data')\n",
    "  \n",
    "# Plotting residual errors in test data.\n",
    "plt.scatter(gr.predict(X_test), gr.predict(X_test) - y_test,\n",
    "            color = \"blue\", s = 1, label = 'Test Data')\n",
    "  \n",
    "# Plotting line for zero residual error.\n",
    "plt.hlines(y = 0, xmin = 0, xmax = 5, linewidth = 2)\n",
    "  \n",
    "# Plotting the legend.\n",
    "plt.legend(loc = 'upper right')\n",
    "  \n",
    "# Plot the title.\n",
    "plt.title(\"Residual Errors, Model : XG Gradient Boost\")\n",
    "  \n",
    "# Method call for displaying the plot.\n",
    "plt.show()"
   ]
  },
  {
   "cell_type": "markdown",
   "id": "02762382",
   "metadata": {},
   "source": [
    "# Section-4.a : Model Evaluation (Health Insurance Charges Prediction)"
   ]
  },
  {
   "cell_type": "code",
   "execution_count": 339,
   "id": "f52eff5c",
   "metadata": {},
   "outputs": [
    {
     "data": {
      "text/html": [
       "<div>\n",
       "<style scoped>\n",
       "    .dataframe tbody tr th:only-of-type {\n",
       "        vertical-align: middle;\n",
       "    }\n",
       "\n",
       "    .dataframe tbody tr th {\n",
       "        vertical-align: top;\n",
       "    }\n",
       "\n",
       "    .dataframe thead th {\n",
       "        text-align: right;\n",
       "    }\n",
       "</style>\n",
       "<table border=\"1\" class=\"dataframe\">\n",
       "  <thead>\n",
       "    <tr style=\"text-align: right;\">\n",
       "      <th></th>\n",
       "      <th>Models</th>\n",
       "      <th>Mean Absolute Error</th>\n",
       "      <th>Mean Squared Error</th>\n",
       "      <th>Root Mean Squared Error</th>\n",
       "    </tr>\n",
       "  </thead>\n",
       "  <tbody>\n",
       "    <tr>\n",
       "      <th>0</th>\n",
       "      <td>Linear Regression</td>\n",
       "      <td>3989.443579</td>\n",
       "      <td>3.441685e+07</td>\n",
       "      <td>5866.587676</td>\n",
       "    </tr>\n",
       "    <tr>\n",
       "      <th>1</th>\n",
       "      <td>Random Forest</td>\n",
       "      <td>3004.454875</td>\n",
       "      <td>2.459504e+07</td>\n",
       "      <td>4959.338974</td>\n",
       "    </tr>\n",
       "    <tr>\n",
       "      <th>2</th>\n",
       "      <td>Support Vector Machine</td>\n",
       "      <td>8292.719233</td>\n",
       "      <td>1.655886e+08</td>\n",
       "      <td>12868.124967</td>\n",
       "    </tr>\n",
       "    <tr>\n",
       "      <th>3</th>\n",
       "      <td>XG Gradient Boost</td>\n",
       "      <td>2575.433875</td>\n",
       "      <td>2.046491e+07</td>\n",
       "      <td>4523.816055</td>\n",
       "    </tr>\n",
       "  </tbody>\n",
       "</table>\n",
       "</div>"
      ],
      "text/plain": [
       "                   Models  Mean Absolute Error  Mean Squared Error  \\\n",
       "0       Linear Regression          3989.443579        3.441685e+07   \n",
       "1           Random Forest          3004.454875        2.459504e+07   \n",
       "2  Support Vector Machine          8292.719233        1.655886e+08   \n",
       "3       XG Gradient Boost          2575.433875        2.046491e+07   \n",
       "\n",
       "   Root Mean Squared Error  \n",
       "0              5866.587676  \n",
       "1              4959.338974  \n",
       "2             12868.124967  \n",
       "3              4523.816055  "
      ]
     },
     "execution_count": 339,
     "metadata": {},
     "output_type": "execute_result"
    }
   ],
   "source": [
    "# Evaluating the model performance by comparing the MAE, MSE, RMSE Value on Test Data for the various models implemented.\n",
    "\n",
    "\n",
    "df_Metric = pd.DataFrame({\"Models\":['Linear Regression', 'Random Forest', 'Support Vector Machine', 'XG Gradient Boost'],\n",
    "                          \n",
    "                        \"Mean Absolute Error\":[metrics.mean_absolute_error(y_test, test_pred_lr),\n",
    "                                               metrics.mean_absolute_error(y_test, test_pred_rf),\n",
    "                                               metrics.mean_absolute_error(y_test, test_pred_svm),\n",
    "                                               metrics.mean_absolute_error(y_test, test_pred_gr)],                   \n",
    "                        \"Mean Squared Error\":[metrics.mean_squared_error(y_test, test_pred_lr),\n",
    "                                              metrics.mean_squared_error(y_test, test_pred_rf),\n",
    "                                              metrics.mean_squared_error(y_test, test_pred_svm),\n",
    "                                              metrics.mean_squared_error(y_test, test_pred_gr)],\n",
    "                          \n",
    "                        \"Root Mean Squared Error\":[np.sqrt(metrics.mean_squared_error(y_test, test_pred_lr)),\n",
    "                                                   np.sqrt(metrics.mean_squared_error(y_test, test_pred_rf)),\n",
    "                                                   np.sqrt(metrics.mean_squared_error(y_test, test_pred_svm)),\n",
    "                                                   np.sqrt(metrics.mean_squared_error(y_test, test_pred_gr))]})\n",
    "\n",
    "\n",
    "df_Metric"
   ]
  },
  {
   "cell_type": "code",
   "execution_count": 340,
   "id": "9c3cdd2b",
   "metadata": {},
   "outputs": [
    {
     "data": {
      "text/html": [
       "<div>\n",
       "<style scoped>\n",
       "    .dataframe tbody tr th:only-of-type {\n",
       "        vertical-align: middle;\n",
       "    }\n",
       "\n",
       "    .dataframe tbody tr th {\n",
       "        vertical-align: top;\n",
       "    }\n",
       "\n",
       "    .dataframe thead th {\n",
       "        text-align: right;\n",
       "    }\n",
       "</style>\n",
       "<table border=\"1\" class=\"dataframe\">\n",
       "  <thead>\n",
       "    <tr style=\"text-align: right;\">\n",
       "      <th></th>\n",
       "      <th>Models</th>\n",
       "      <th>R-Square : Test Data</th>\n",
       "      <th>R-Square : Training Data</th>\n",
       "      <th>Delta R-Square (|Test-Train|)</th>\n",
       "    </tr>\n",
       "  </thead>\n",
       "  <tbody>\n",
       "    <tr>\n",
       "      <th>0</th>\n",
       "      <td>Linear Regression</td>\n",
       "      <td>0.7694486636353987</td>\n",
       "      <td>0.7545391474616814</td>\n",
       "      <td>0.014910</td>\n",
       "    </tr>\n",
       "    <tr>\n",
       "      <th>1</th>\n",
       "      <td>Random Forest</td>\n",
       "      <td>0.8352429147799074</td>\n",
       "      <td>0.9757315828649057</td>\n",
       "      <td>0.140489</td>\n",
       "    </tr>\n",
       "    <tr>\n",
       "      <th>2</th>\n",
       "      <td>Support Vector Machine</td>\n",
       "      <td>-0.10924390858652555</td>\n",
       "      <td>-0.10145299995792745</td>\n",
       "      <td>0.007791</td>\n",
       "    </tr>\n",
       "    <tr>\n",
       "      <th>3</th>\n",
       "      <td>XG Gradient Boost</td>\n",
       "      <td>0.8629098069863456</td>\n",
       "      <td>0.8979638810259799</td>\n",
       "      <td>0.035054</td>\n",
       "    </tr>\n",
       "  </tbody>\n",
       "</table>\n",
       "</div>"
      ],
      "text/plain": [
       "                   Models  R-Square : Test Data R-Square : Training Data  \\\n",
       "0       Linear Regression    0.7694486636353987       0.7545391474616814   \n",
       "1           Random Forest    0.8352429147799074       0.9757315828649057   \n",
       "2  Support Vector Machine  -0.10924390858652555     -0.10145299995792745   \n",
       "3       XG Gradient Boost    0.8629098069863456       0.8979638810259799   \n",
       "\n",
       "   Delta R-Square (|Test-Train|)  \n",
       "0                       0.014910  \n",
       "1                       0.140489  \n",
       "2                       0.007791  \n",
       "3                       0.035054  "
      ]
     },
     "execution_count": 340,
     "metadata": {},
     "output_type": "execute_result"
    }
   ],
   "source": [
    "# Evaluating the model performance by comparing the R2 Value on Test Data and Training Data, for the various models implemented.\n",
    "df_R2 = pd.DataFrame({\"Models\":['Linear Regression', 'Random Forest', 'Support Vector Machine', 'XG Gradient Boost'],\n",
    "                        \"R-Square : Test Data\":[r2_lr_test,r2_rf_test,svm_r2_test,gr_r2_test],\n",
    "                        \"R-Square : Training Data\":[r2_lr_train,r2_rf_train,svm_r2_train,gr_r2_train],\n",
    "                        \"Delta R-Square (|Test-Train|)\":[abs(float(r2_lr_test)-float(r2_lr_train)),abs(float(r2_rf_test)-float(r2_rf_train)),abs(float(svm_r2_test)-float(svm_r2_train)),abs(float(gr_r2_test)-float(gr_r2_train))]\n",
    "                     })\n",
    "df_R2"
   ]
  },
  {
   "cell_type": "code",
   "execution_count": 341,
   "id": "dd7644f8",
   "metadata": {},
   "outputs": [
    {
     "ename": "KeyError",
     "evalue": "'Test Data'",
     "output_type": "error",
     "traceback": [
      "\u001b[1;31m---------------------------------------------------------------------------\u001b[0m",
      "\u001b[1;31mKeyError\u001b[0m                                  Traceback (most recent call last)",
      "\u001b[1;32m~\\anaconda3\\lib\\site-packages\\pandas\\core\\indexes\\base.py\u001b[0m in \u001b[0;36mget_loc\u001b[1;34m(self, key, method, tolerance)\u001b[0m\n\u001b[0;32m   3079\u001b[0m             \u001b[1;32mtry\u001b[0m\u001b[1;33m:\u001b[0m\u001b[1;33m\u001b[0m\u001b[1;33m\u001b[0m\u001b[0m\n\u001b[1;32m-> 3080\u001b[1;33m                 \u001b[1;32mreturn\u001b[0m \u001b[0mself\u001b[0m\u001b[1;33m.\u001b[0m\u001b[0m_engine\u001b[0m\u001b[1;33m.\u001b[0m\u001b[0mget_loc\u001b[0m\u001b[1;33m(\u001b[0m\u001b[0mcasted_key\u001b[0m\u001b[1;33m)\u001b[0m\u001b[1;33m\u001b[0m\u001b[1;33m\u001b[0m\u001b[0m\n\u001b[0m\u001b[0;32m   3081\u001b[0m             \u001b[1;32mexcept\u001b[0m \u001b[0mKeyError\u001b[0m \u001b[1;32mas\u001b[0m \u001b[0merr\u001b[0m\u001b[1;33m:\u001b[0m\u001b[1;33m\u001b[0m\u001b[1;33m\u001b[0m\u001b[0m\n",
      "\u001b[1;32mpandas\\_libs\\index.pyx\u001b[0m in \u001b[0;36mpandas._libs.index.IndexEngine.get_loc\u001b[1;34m()\u001b[0m\n",
      "\u001b[1;32mpandas\\_libs\\index.pyx\u001b[0m in \u001b[0;36mpandas._libs.index.IndexEngine.get_loc\u001b[1;34m()\u001b[0m\n",
      "\u001b[1;32mpandas\\_libs\\hashtable_class_helper.pxi\u001b[0m in \u001b[0;36mpandas._libs.hashtable.PyObjectHashTable.get_item\u001b[1;34m()\u001b[0m\n",
      "\u001b[1;32mpandas\\_libs\\hashtable_class_helper.pxi\u001b[0m in \u001b[0;36mpandas._libs.hashtable.PyObjectHashTable.get_item\u001b[1;34m()\u001b[0m\n",
      "\u001b[1;31mKeyError\u001b[0m: 'Test Data'",
      "\nThe above exception was the direct cause of the following exception:\n",
      "\u001b[1;31mKeyError\u001b[0m                                  Traceback (most recent call last)",
      "\u001b[1;32m<ipython-input-341-0a89a85e4142>\u001b[0m in \u001b[0;36m<module>\u001b[1;34m\u001b[0m\n\u001b[0;32m      1\u001b[0m \u001b[1;31m# Plotting the R2 Value on Test Data and Training Data, to make a visual inference.\u001b[0m\u001b[1;33m\u001b[0m\u001b[1;33m\u001b[0m\u001b[1;33m\u001b[0m\u001b[0m\n\u001b[1;32m----> 2\u001b[1;33m \u001b[0mdf_R2\u001b[0m\u001b[1;33m[\u001b[0m\u001b[1;34m'Test Data'\u001b[0m\u001b[1;33m]\u001b[0m \u001b[1;33m=\u001b[0m \u001b[0mpd\u001b[0m\u001b[1;33m.\u001b[0m\u001b[0mto_numeric\u001b[0m\u001b[1;33m(\u001b[0m\u001b[0mdf_R2\u001b[0m\u001b[1;33m[\u001b[0m\u001b[1;34m'Test Data'\u001b[0m\u001b[1;33m]\u001b[0m\u001b[1;33m)\u001b[0m\u001b[1;33m\u001b[0m\u001b[1;33m\u001b[0m\u001b[0m\n\u001b[0m\u001b[0;32m      3\u001b[0m \u001b[0mdf_R2\u001b[0m\u001b[1;33m[\u001b[0m\u001b[1;34m'Training Data'\u001b[0m\u001b[1;33m]\u001b[0m \u001b[1;33m=\u001b[0m \u001b[0mpd\u001b[0m\u001b[1;33m.\u001b[0m\u001b[0mto_numeric\u001b[0m\u001b[1;33m(\u001b[0m\u001b[0mdf_R2\u001b[0m\u001b[1;33m[\u001b[0m\u001b[1;34m'Training Data'\u001b[0m\u001b[1;33m]\u001b[0m\u001b[1;33m)\u001b[0m\u001b[1;33m\u001b[0m\u001b[1;33m\u001b[0m\u001b[0m\n\u001b[0;32m      4\u001b[0m \u001b[0mplt\u001b[0m\u001b[1;33m.\u001b[0m\u001b[0mrcParams\u001b[0m\u001b[1;33m[\u001b[0m\u001b[1;34m'figure.figsize'\u001b[0m\u001b[1;33m]\u001b[0m \u001b[1;33m=\u001b[0m \u001b[1;33m(\u001b[0m\u001b[1;36m16\u001b[0m\u001b[1;33m,\u001b[0m\u001b[1;36m5\u001b[0m\u001b[1;33m)\u001b[0m\u001b[1;33m\u001b[0m\u001b[1;33m\u001b[0m\u001b[0m\n\u001b[0;32m      5\u001b[0m \u001b[0mplt\u001b[0m\u001b[1;33m.\u001b[0m\u001b[0mtitle\u001b[0m\u001b[1;33m(\u001b[0m\u001b[1;34m'R2 Value on Test Data and Training Data'\u001b[0m\u001b[1;33m)\u001b[0m\u001b[1;33m\u001b[0m\u001b[1;33m\u001b[0m\u001b[0m\n",
      "\u001b[1;32m~\\anaconda3\\lib\\site-packages\\pandas\\core\\frame.py\u001b[0m in \u001b[0;36m__getitem__\u001b[1;34m(self, key)\u001b[0m\n\u001b[0;32m   3022\u001b[0m             \u001b[1;32mif\u001b[0m \u001b[0mself\u001b[0m\u001b[1;33m.\u001b[0m\u001b[0mcolumns\u001b[0m\u001b[1;33m.\u001b[0m\u001b[0mnlevels\u001b[0m \u001b[1;33m>\u001b[0m \u001b[1;36m1\u001b[0m\u001b[1;33m:\u001b[0m\u001b[1;33m\u001b[0m\u001b[1;33m\u001b[0m\u001b[0m\n\u001b[0;32m   3023\u001b[0m                 \u001b[1;32mreturn\u001b[0m \u001b[0mself\u001b[0m\u001b[1;33m.\u001b[0m\u001b[0m_getitem_multilevel\u001b[0m\u001b[1;33m(\u001b[0m\u001b[0mkey\u001b[0m\u001b[1;33m)\u001b[0m\u001b[1;33m\u001b[0m\u001b[1;33m\u001b[0m\u001b[0m\n\u001b[1;32m-> 3024\u001b[1;33m             \u001b[0mindexer\u001b[0m \u001b[1;33m=\u001b[0m \u001b[0mself\u001b[0m\u001b[1;33m.\u001b[0m\u001b[0mcolumns\u001b[0m\u001b[1;33m.\u001b[0m\u001b[0mget_loc\u001b[0m\u001b[1;33m(\u001b[0m\u001b[0mkey\u001b[0m\u001b[1;33m)\u001b[0m\u001b[1;33m\u001b[0m\u001b[1;33m\u001b[0m\u001b[0m\n\u001b[0m\u001b[0;32m   3025\u001b[0m             \u001b[1;32mif\u001b[0m \u001b[0mis_integer\u001b[0m\u001b[1;33m(\u001b[0m\u001b[0mindexer\u001b[0m\u001b[1;33m)\u001b[0m\u001b[1;33m:\u001b[0m\u001b[1;33m\u001b[0m\u001b[1;33m\u001b[0m\u001b[0m\n\u001b[0;32m   3026\u001b[0m                 \u001b[0mindexer\u001b[0m \u001b[1;33m=\u001b[0m \u001b[1;33m[\u001b[0m\u001b[0mindexer\u001b[0m\u001b[1;33m]\u001b[0m\u001b[1;33m\u001b[0m\u001b[1;33m\u001b[0m\u001b[0m\n",
      "\u001b[1;32m~\\anaconda3\\lib\\site-packages\\pandas\\core\\indexes\\base.py\u001b[0m in \u001b[0;36mget_loc\u001b[1;34m(self, key, method, tolerance)\u001b[0m\n\u001b[0;32m   3080\u001b[0m                 \u001b[1;32mreturn\u001b[0m \u001b[0mself\u001b[0m\u001b[1;33m.\u001b[0m\u001b[0m_engine\u001b[0m\u001b[1;33m.\u001b[0m\u001b[0mget_loc\u001b[0m\u001b[1;33m(\u001b[0m\u001b[0mcasted_key\u001b[0m\u001b[1;33m)\u001b[0m\u001b[1;33m\u001b[0m\u001b[1;33m\u001b[0m\u001b[0m\n\u001b[0;32m   3081\u001b[0m             \u001b[1;32mexcept\u001b[0m \u001b[0mKeyError\u001b[0m \u001b[1;32mas\u001b[0m \u001b[0merr\u001b[0m\u001b[1;33m:\u001b[0m\u001b[1;33m\u001b[0m\u001b[1;33m\u001b[0m\u001b[0m\n\u001b[1;32m-> 3082\u001b[1;33m                 \u001b[1;32mraise\u001b[0m \u001b[0mKeyError\u001b[0m\u001b[1;33m(\u001b[0m\u001b[0mkey\u001b[0m\u001b[1;33m)\u001b[0m \u001b[1;32mfrom\u001b[0m \u001b[0merr\u001b[0m\u001b[1;33m\u001b[0m\u001b[1;33m\u001b[0m\u001b[0m\n\u001b[0m\u001b[0;32m   3083\u001b[0m \u001b[1;33m\u001b[0m\u001b[0m\n\u001b[0;32m   3084\u001b[0m         \u001b[1;32mif\u001b[0m \u001b[0mtolerance\u001b[0m \u001b[1;32mis\u001b[0m \u001b[1;32mnot\u001b[0m \u001b[1;32mNone\u001b[0m\u001b[1;33m:\u001b[0m\u001b[1;33m\u001b[0m\u001b[1;33m\u001b[0m\u001b[0m\n",
      "\u001b[1;31mKeyError\u001b[0m: 'Test Data'"
     ]
    }
   ],
   "source": [
    "# Plotting the R2 Value on Test Data and Training Data, to make a visual inference.\n",
    "df_R2['Test Data'] = pd.to_numeric(df_R2['Test Data'])\n",
    "df_R2['Training Data'] = pd.to_numeric(df_R2['Training Data'])\n",
    "plt.rcParams['figure.figsize'] = (16,5)\n",
    "plt.title('R2 Value on Test Data and Training Data')\n",
    "plt.xlabel('Models Implemented') \n",
    "plt.ylabel('R2 Value') \n",
    "plt.plot(df_R2['Models'], df_R2['Test Data'] , color = 'blue', label = 'Test Data') # Test Data Set \n",
    "plt.plot(df_R2['Models'], df_R2['Training Data'] , color = 'green', label = 'Train Data') # Train Data Set\n",
    "plt.legend(loc = \"center right\")"
   ]
  },
  {
   "cell_type": "code",
   "execution_count": null,
   "id": "bdad5ad4",
   "metadata": {},
   "outputs": [],
   "source": [
    "# Summary of prediction on Test Data.\n",
    "df_summary = pd.DataFrame({'Actual':y_test,'Linear Regression':test_pred_lr, 'Random Forest':test_pred_rf,\n",
    "                           'Support Vector Machine':test_pred_svm, 'XG Gradient Boost':test_pred_gr})\n",
    "df_summary.head()"
   ]
  },
  {
   "cell_type": "markdown",
   "id": "7ea19db3",
   "metadata": {},
   "source": [
    "# Predicting the Insurance Charges for a New Customer using the best model - XG Gradient Boost"
   ]
  },
  {
   "cell_type": "code",
   "execution_count": null,
   "id": "0ce49a62",
   "metadata": {},
   "outputs": [],
   "source": [
    "# Predicting the Insurance Charges for a New Customer.\n",
    "data_new = {'age' : 27, 'bmi' : 22, 'steps' : 9855, 'smoker' : 0}\n",
    "df_new = pd.DataFrame(data_new,index=[0])\n",
    "df_new"
   ]
  },
  {
   "cell_type": "code",
   "execution_count": null,
   "id": "0c8b685b",
   "metadata": {
    "scrolled": true
   },
   "outputs": [],
   "source": [
    "new_pred = gr.predict(df_new)\n",
    "print(\"\\nThe Insurance Charges for the new customer is : $\", new_pred[0])"
   ]
  },
  {
   "cell_type": "markdown",
   "id": "da41d89b",
   "metadata": {},
   "source": [
    "# Graphical User Interface : Health Insurance Charges Predictor"
   ]
  },
  {
   "cell_type": "code",
   "execution_count": null,
   "id": "0ffc4067",
   "metadata": {},
   "outputs": [],
   "source": [
    "import joblib\n",
    "joblib.dump(gr, \"model_joblib_gr\")\n",
    "model = joblib.load(\"model_joblib_gr\")\n",
    "model.predict(data_trunc)"
   ]
  },
  {
   "cell_type": "code",
   "execution_count": null,
   "id": "a3e44678",
   "metadata": {},
   "outputs": [],
   "source": [
    "from tkinter import *\n",
    "import joblib"
   ]
  },
  {
   "cell_type": "code",
   "execution_count": null,
   "id": "978a6fc2",
   "metadata": {},
   "outputs": [],
   "source": [
    "def show_entry():\n",
    "    \n",
    "    p1 = float(e1.get())\n",
    "    p2 = float(e2.get())\n",
    "    p3 = float(e3.get())\n",
    "    p4 = float(e4.get())\n",
    "        \n",
    "    model = joblib.load(\"model_joblib_gr\")\n",
    "    result = model.predict([[p1, p2, p3, p4]])\n",
    "    \n",
    "    Label(master, text = \"Insurance Charges\").grid(row = 7)\n",
    "    Label(master, text = result).grid(row = 8)\n",
    "\n",
    "master = Tk()\n",
    "master.title(\"Insurance Charges Predictor\")\n",
    "label = Label(master, text = \"Enter your details below:\", bg = \"grey\", fg = \"white\").grid(row = 0, columnspan = 2)\n",
    "\n",
    "Label(master, text = \"Age\").grid(row = 1)\n",
    "Label(master, text = \"BMI\").grid(row = 2)\n",
    "Label(master, text = \"Number of Steps\").grid(row = 3)\n",
    "Label(master, text = \"Smoker/Non-Smoker - 0/1\").grid(row = 4)\n",
    "\n",
    "e1 = Entry(master)\n",
    "e2 = Entry(master)\n",
    "e3 = Entry(master)\n",
    "e4 = Entry(master)\n",
    "\n",
    "e1.grid(row = 1, column = 1)\n",
    "e2.grid(row = 2, column = 1)\n",
    "e3.grid(row = 3, column = 1)\n",
    "e4.grid(row = 4, column = 1)\n",
    "\n",
    "Button(master, text = \"Calculate\", command = show_entry).grid()\n",
    "mainloop()"
   ]
  },
  {
   "cell_type": "markdown",
   "id": "b172f273",
   "metadata": {},
   "source": [
    "# Section-3.b : Model Building (Health Insurance Claims Chances Prediction)"
   ]
  },
  {
   "cell_type": "markdown",
   "id": "58bd6855",
   "metadata": {},
   "source": [
    "# Partitioning the Data."
   ]
  },
  {
   "cell_type": "code",
   "execution_count": null,
   "id": "5f4e644a",
   "metadata": {},
   "outputs": [],
   "source": [
    "# Set up the dependent and the independent variables by dropping the Target Variable from the data frame.\n",
    "\n",
    "# The independent variables that are being used for model builiding are : \n",
    "# 1. age\n",
    "# 2. bmi\n",
    "# 3. steps\n",
    "# 4. smoker_yes \n",
    "# 5. charges\n",
    "\n",
    "# The target variable is : insuranceclaim\n",
    "\n",
    "# X = Independent Variables/Feature Matrix\n",
    "# y = Taget Variable/Response Vector\n",
    "\n",
    "X = data.drop(['sex', 'children', 'region', 'insuranceclaim'],axis=1)\n",
    "y = data['insuranceclaim']"
   ]
  },
  {
   "cell_type": "code",
   "execution_count": null,
   "id": "c76b6682",
   "metadata": {},
   "outputs": [],
   "source": [
    "# Making a copy of the attribute truncated complete dataset.\n",
    "data_trunc_2 = X\n",
    "data_trunc_2.head()"
   ]
  },
  {
   "cell_type": "code",
   "execution_count": null,
   "id": "7e6ca2f5",
   "metadata": {},
   "outputs": [],
   "source": [
    "X.head()"
   ]
  },
  {
   "cell_type": "code",
   "execution_count": null,
   "id": "3d5a2293",
   "metadata": {},
   "outputs": [],
   "source": [
    "y.head()"
   ]
  },
  {
   "cell_type": "code",
   "execution_count": null,
   "id": "af80b973",
   "metadata": {},
   "outputs": [],
   "source": [
    "# Splitting the data : X and y into Training Data and Test Data.\n",
    "from sklearn.model_selection import train_test_split\n",
    "X_train,X_test,y_train,y_test=train_test_split(X,y,test_size=0.2,random_state=1)"
   ]
  },
  {
   "cell_type": "code",
   "execution_count": null,
   "id": "4e27d578",
   "metadata": {},
   "outputs": [],
   "source": [
    "# Having a glance at the shape of the Training Data and the Test Data.\n",
    "print(X_train.shape)\n",
    "print(X_test.shape)\n",
    "print(y_train.shape)\n",
    "print(y_test.shape)"
   ]
  },
  {
   "cell_type": "markdown",
   "id": "b01e619a",
   "metadata": {},
   "source": [
    "# Model Implementation"
   ]
  },
  {
   "cell_type": "markdown",
   "id": "6e8ae73d",
   "metadata": {},
   "source": [
    "#### 1. XG Gradient Boost\n",
    "#### 2. Random Forest"
   ]
  },
  {
   "cell_type": "markdown",
   "id": "aadbf14a",
   "metadata": {},
   "source": [
    "## 1. XG Gradient Boost"
   ]
  },
  {
   "cell_type": "code",
   "execution_count": null,
   "id": "ae048d79",
   "metadata": {},
   "outputs": [],
   "source": [
    "# Creating a Gradient Boost object.\n",
    "gr2 = GradientBoostingClassifier()\n",
    "\n",
    "# Training the XG Gradient Boost using the Training Data.\n",
    "gr2.fit(X_train,y_train)"
   ]
  },
  {
   "cell_type": "code",
   "execution_count": null,
   "id": "ecd6ee7e",
   "metadata": {},
   "outputs": [],
   "source": [
    "# Comparing the predicted values to the actual values on Test Data.\n",
    "test_pred_gr = gr2.predict(X_test)\n",
    "test_pred_gr_comparison = pd.DataFrame({\"Predicted\":test_pred_gr,\"Actual\":y_test})\n",
    "test_pred_gr_comparison"
   ]
  },
  {
   "cell_type": "code",
   "execution_count": null,
   "id": "f26f578b",
   "metadata": {},
   "outputs": [],
   "source": [
    "# Evaluating the model for accuracy on Test Data.\n",
    "from sklearn.metrics import accuracy_score\n",
    "accuracy_gr1 = accuracy_score(y_test, test_pred_gr)\n",
    "print(\"\\nAccuracy Score : %.2f%%\" % (accuracy_gr1 * 100.0))"
   ]
  },
  {
   "cell_type": "code",
   "execution_count": null,
   "id": "ef4b1c22",
   "metadata": {},
   "outputs": [],
   "source": [
    "# Assessing the Confusion Matrix & Classification Report for the model performance on Test Data.\n",
    "from sklearn.metrics import classification_report,confusion_matrix\n",
    "cm_gr1 = confusion_matrix(y_test, test_pred_gr)\n",
    "cr_gr1 = classification_report(y_test , test_pred_gr)\n",
    "print(\"\\nConfusion Matrix : \\n\\n\", cm_gr1)\n",
    "print(\"\\n\\nClassification Report : \\n\\n\", cr_gr1)"
   ]
  },
  {
   "cell_type": "code",
   "execution_count": null,
   "id": "917177c1",
   "metadata": {},
   "outputs": [],
   "source": [
    "# Plotting the Confusion Matrix to analyse the model performance on Test Data.\n",
    "group_names =['True Neg','False Pos','False Neg','True Pos']\n",
    "group_counts = [\"{0:0.0f}\".format(value) for value in\n",
    "                cm_gr1.flatten()]\n",
    "group_percentages = [\"{0:.2%}\".format(value) for value in\n",
    "                     cm_gr1.flatten()/np.sum(cm_gr1)]\n",
    "labels = [f\"{v1}\\n{v2}\\n{v3}\" for v1, v2, v3 in\n",
    "          zip(group_names,group_counts,group_percentages)]\n",
    "labels = np.asarray(labels).reshape(2,2)\n",
    "sns.heatmap(cm_gr1, annot=labels, fmt='', cmap='Blues')"
   ]
  },
  {
   "cell_type": "code",
   "execution_count": null,
   "id": "1cfa63dc",
   "metadata": {},
   "outputs": [],
   "source": [
    "# Comparing the predicted values to the actual values on Training Data.\n",
    "train_pred_gr = gr2.predict(X_train)\n",
    "train_pred_gr_comparison = pd.DataFrame({\"Predicted\":train_pred_gr,\"Actual\":y_train})\n",
    "train_pred_gr_comparison"
   ]
  },
  {
   "cell_type": "code",
   "execution_count": null,
   "id": "acfa3c51",
   "metadata": {},
   "outputs": [],
   "source": [
    "# Evaluating the model for accuracy on Training Data.\n",
    "accuracy_gr2 = accuracy_score(y_train, train_pred_gr)\n",
    "print(\"\\nAccuracy Score : %.2f%%\" % (accuracy_gr2 * 100.0))"
   ]
  },
  {
   "cell_type": "code",
   "execution_count": null,
   "id": "f4195c9a",
   "metadata": {},
   "outputs": [],
   "source": [
    "# Assessing the Confusion Matrix & Classification Report for the model performance on Training Data.\n",
    "from sklearn.metrics import classification_report,confusion_matrix\n",
    "cm_gr2 = confusion_matrix(y_train, train_pred_gr)\n",
    "cr_gr2 = classification_report(y_train , train_pred_gr)\n",
    "print(\"\\nConfusion Matrix : \\n\\n\", cm_gr2)\n",
    "print(\"\\n\\nClassification Report : \\n\\n\", cr_gr2)"
   ]
  },
  {
   "cell_type": "code",
   "execution_count": null,
   "id": "daa5be1d",
   "metadata": {},
   "outputs": [],
   "source": [
    "# Plotting the Confusion Matrix to analyse the model performance on Training Data.\n",
    "group_names =['True Neg','False Pos','False Neg','True Pos']\n",
    "group_counts = [\"{0:0.0f}\".format(value) for value in\n",
    "                cm_gr2.flatten()]\n",
    "group_percentages = [\"{0:.2%}\".format(value) for value in\n",
    "                     cm_gr2.flatten()/np.sum(cm_gr2)]\n",
    "labels = [f\"{v1}\\n{v2}\\n{v3}\" for v1, v2, v3 in\n",
    "          zip(group_names,group_counts,group_percentages)]\n",
    "labels = np.asarray(labels).reshape(2,2)\n",
    "sns.heatmap(cm_gr2, annot=labels, fmt='', cmap='Blues')"
   ]
  },
  {
   "cell_type": "markdown",
   "id": "d90207ee",
   "metadata": {},
   "source": [
    "## 2. Random Forest"
   ]
  },
  {
   "cell_type": "code",
   "execution_count": null,
   "id": "1b13cb50",
   "metadata": {},
   "outputs": [],
   "source": [
    "# Creating a Random Forest object.\n",
    "random_for2 = RandomForestClassifier()\n",
    "\n",
    "# Training the Linear Regression model using the Training Data.\n",
    "random_for2.fit(X_train,y_train)"
   ]
  },
  {
   "cell_type": "code",
   "execution_count": null,
   "id": "77590144",
   "metadata": {},
   "outputs": [],
   "source": [
    "# Comparing the predicted values to the actual values on Test Data.\n",
    "test_pred_rf = random_for2.predict(X_test)\n",
    "test_pred_rf_comparison = pd.DataFrame({\"Predicted\":test_pred_rf,\"Actual\":y_test})\n",
    "test_pred_rf_comparison"
   ]
  },
  {
   "cell_type": "code",
   "execution_count": null,
   "id": "a131c12b",
   "metadata": {},
   "outputs": [],
   "source": [
    "# Evaluating the model for accuracy on Test Data.\n",
    "from sklearn.metrics import accuracy_score\n",
    "accuracy_rf1 = accuracy_score(y_test, test_pred_rf)\n",
    "print(\"\\nAccuracy Score : %.2f%%\" % (accuracy_rf1 * 100.0))"
   ]
  },
  {
   "cell_type": "code",
   "execution_count": null,
   "id": "e1249cb6",
   "metadata": {},
   "outputs": [],
   "source": [
    "# Assessing the Confusion Matrix & Classification Report for the model performance on Test Data.\n",
    "from sklearn.metrics import classification_report,confusion_matrix\n",
    "cm_rf1 = confusion_matrix(y_test, test_pred_rf)\n",
    "cr_rf1 = classification_report(y_test , test_pred_rf)\n",
    "print(\"\\nConfusion Matrix : \\n\\n\", cm_rf1)\n",
    "print(\"\\n\\nClassification Report : \\n\\n\", cr_rf1)"
   ]
  },
  {
   "cell_type": "code",
   "execution_count": null,
   "id": "10d1e04a",
   "metadata": {},
   "outputs": [],
   "source": [
    "# Plotting the Confusion Matrix to analyse the model performance on Test Data.\n",
    "group_names =['True Neg','False Pos','False Neg','True Pos']\n",
    "group_counts = [\"{0:0.0f}\".format(value) for value in\n",
    "                cm_rf1.flatten()]\n",
    "group_percentages = [\"{0:.2%}\".format(value) for value in\n",
    "                     cm_rf1.flatten()/np.sum(cm_rf1)]\n",
    "labels = [f\"{v1}\\n{v2}\\n{v3}\" for v1, v2, v3 in\n",
    "          zip(group_names,group_counts,group_percentages)]\n",
    "labels = np.asarray(labels).reshape(2,2)\n",
    "sns.heatmap(cm_rf1, annot=labels, fmt='', cmap='Blues')"
   ]
  },
  {
   "cell_type": "code",
   "execution_count": null,
   "id": "eeac0316",
   "metadata": {},
   "outputs": [],
   "source": [
    "# Comparing the predicted values to the actual values on Training Data.\n",
    "train_pred_rf = random_for2.predict(X_train)\n",
    "train_pred_rf_comparison = pd.DataFrame({\"Predicted\":train_pred_rf,\"Actual\":y_train})\n",
    "train_pred_rf_comparison"
   ]
  },
  {
   "cell_type": "code",
   "execution_count": null,
   "id": "b0eecc85",
   "metadata": {},
   "outputs": [],
   "source": [
    "# Evaluating the model for accuracy on Training Data.\n",
    "accuracy_rf2 = accuracy_score(y_train, train_pred_rf)\n",
    "print(\"\\nAccuracy Score : %.2f%%\" % (accuracy_rf2 * 100.0))"
   ]
  },
  {
   "cell_type": "code",
   "execution_count": null,
   "id": "97f1e260",
   "metadata": {},
   "outputs": [],
   "source": [
    "# Assessing the Confusion Matrix & Classification Report for the model performance on Training Data.\n",
    "from sklearn.metrics import classification_report,confusion_matrix\n",
    "cm_rf2 = confusion_matrix(y_train, train_pred_rf)\n",
    "cr_rf2 = classification_report(y_train , train_pred_rf)\n",
    "print(\"\\nConfusion Matrix : \\n\\n\", cm_rf2)\n",
    "print(\"\\n\\nClassification Report : \\n\\n\", cr_rf2)"
   ]
  },
  {
   "cell_type": "code",
   "execution_count": null,
   "id": "6828ad57",
   "metadata": {},
   "outputs": [],
   "source": [
    "# Plotting the Confusion Matrix to analyse the model performance on Training Data.\n",
    "group_names =['True Neg','False Pos','False Neg','True Pos']\n",
    "group_counts = [\"{0:0.0f}\".format(value) for value in\n",
    "                cm_rf2.flatten()]\n",
    "group_percentages = [\"{0:.2%}\".format(value) for value in\n",
    "                     cm_rf2.flatten()/np.sum(cm_rf2)]\n",
    "labels = [f\"{v1}\\n{v2}\\n{v3}\" for v1, v2, v3 in\n",
    "          zip(group_names,group_counts,group_percentages)]\n",
    "labels = np.asarray(labels).reshape(2,2)\n",
    "sns.heatmap(cm_rf2, annot=labels, fmt='', cmap='Blues')"
   ]
  },
  {
   "cell_type": "markdown",
   "id": "ffa417f1",
   "metadata": {},
   "source": [
    "# Section-4.b : Model Evaluation (Health Insurance Claims Chances Prediction)"
   ]
  },
  {
   "cell_type": "code",
   "execution_count": null,
   "id": "9684e7e2",
   "metadata": {},
   "outputs": [],
   "source": [
    "# Evaluating the model performance by comparing the R2 Value on Test Data and Training Data, for the various models implemented.\n",
    "from sklearn.metrics import precision_recall_fscore_support as score\n",
    "precision_gr1,recall_gr1,fscore_gr1,support_gr1=score(y_test , test_pred_gr, average='macro')\n",
    "precision_gr2,recall_gr2,fscore_gr2,support_gr2=score(y_train , train_pred_gr, average='macro')\n",
    "precision_rf1,recall_rf1,fscore_rf1,support_rf1=score(y_test , test_pred_rf, average='macro')\n",
    "precision_rf2,recall_rf2,fscore_rf2,support_rf2=score(y_train , train_pred_rf, average='macro')\n",
    "\n",
    "df_R2 = pd.DataFrame({\"Models\":['XG Gradient Boost', 'Random Forest'],\n",
    "                        \"Accuracy on Test Data\":[accuracy_gr1, accuracy_rf1],\n",
    "                        \"Accuracy on Training Data\":[accuracy_gr2, accuracy_rf2],\n",
    "                        \"Delta Accuracy (|Test-Train|)\":[abs(accuracy_gr1-accuracy_gr2),abs(accuracy_rf1-accuracy_rf2)],\n",
    "                        \"Precision on Test Data\":[precision_gr1, precision_rf1],\n",
    "                        \"Precision on Training Data\":[precision_gr2, precision_rf2],\n",
    "                        \"Recall on Test Data\":[recall_gr1, recall_rf1],\n",
    "                        \"Recall on Training Data\":[recall_gr2, recall_rf2],\n",
    "                        \"f1-score on Test Data\":[fscore_gr1, fscore_rf1],\n",
    "                        \"f1-score on Training Data\":[fscore_gr2, fscore_rf2]})\n",
    "df_R2"
   ]
  },
  {
   "cell_type": "markdown",
   "id": "95a5018d",
   "metadata": {},
   "source": [
    "# Predicting the Insurance Claim Chances for a New Customer using the best model - XG Gradient Boost"
   ]
  },
  {
   "cell_type": "code",
   "execution_count": null,
   "id": "fd8814cc",
   "metadata": {},
   "outputs": [],
   "source": [
    "# Predicting the Insurance Claim for a New Customer.\n",
    "data_new = {'age' : 67, 'bmi' : 28, 'steps' : 1855, 'smoker' : 1, 'charges' : 37554}\n",
    "df_new = pd.DataFrame(data_new,index=[0])\n",
    "df_new"
   ]
  },
  {
   "cell_type": "code",
   "execution_count": null,
   "id": "bf61debd",
   "metadata": {},
   "outputs": [],
   "source": [
    "new_pred = gr2.predict(df_new)\n",
    "print(\"\\nThe chances of Insurance Claim for the new customer is : \", new_pred[0])"
   ]
  },
  {
   "cell_type": "markdown",
   "id": "cd2b7343",
   "metadata": {},
   "source": [
    "# Graphical User Interface : Health Insurance Claim Chances Predictor"
   ]
  },
  {
   "cell_type": "code",
   "execution_count": null,
   "id": "86f2a89d",
   "metadata": {},
   "outputs": [],
   "source": [
    "import joblib\n",
    "joblib.dump(gr2, \"model_joblib_gr\")\n",
    "model = joblib.load(\"model_joblib_gr\")\n",
    "model.predict(data_trunc_2)"
   ]
  },
  {
   "cell_type": "code",
   "execution_count": null,
   "id": "f7c8dc6f",
   "metadata": {},
   "outputs": [],
   "source": [
    "from tkinter import *\n",
    "import joblib"
   ]
  },
  {
   "cell_type": "code",
   "execution_count": null,
   "id": "1cca52b2",
   "metadata": {},
   "outputs": [],
   "source": [
    "def show_entry():\n",
    "    \n",
    "    p1 = float(e1.get())\n",
    "    p2 = float(e2.get())\n",
    "    p3 = float(e3.get())\n",
    "    p4 = float(e4.get())\n",
    "    p5 = float(e5.get())\n",
    "    \n",
    "    model = joblib.load(\"model_joblib_gr\")\n",
    "    result = model.predict([[p1, p2, p3, p4, p5]])\n",
    "    \n",
    "    Label(master, text = \"Insurance Claim Chances\").grid(row = 7)\n",
    "    Label(master, text = result).grid(row = 8)\n",
    "\n",
    "master = Tk()\n",
    "master.title(\"Insurance Claim Predictor\")\n",
    "label = Label(master, text = \"Enter your details below:\", bg = \"grey\", fg = \"white\").grid(row = 0, columnspan = 2)\n",
    "\n",
    "Label(master, text = \"Age\").grid(row = 1)\n",
    "Label(master, text = \"BMI\").grid(row = 2)\n",
    "Label(master, text = \"Number of Steps\").grid(row = 3)\n",
    "Label(master, text = \"Smoker/Non-Smoker - 0/1\").grid(row = 4)\n",
    "Label(master, text = \"Insurance Charges\").grid(row = 5)\n",
    "\n",
    "e1 = Entry(master)\n",
    "e2 = Entry(master)\n",
    "e3 = Entry(master)\n",
    "e4 = Entry(master)\n",
    "e5 = Entry(master)\n",
    "\n",
    "e1.grid(row = 1, column = 1)\n",
    "e2.grid(row = 2, column = 1)\n",
    "e3.grid(row = 3, column = 1)\n",
    "e4.grid(row = 4, column = 1)\n",
    "e5.grid(row = 5, column = 1)\n",
    "\n",
    "\n",
    "Button(master, text = \"Calculate\", command = show_entry).grid()\n",
    "mainloop()"
   ]
  },
  {
   "cell_type": "markdown",
   "id": "bf64c698",
   "metadata": {},
   "source": [
    "### End of code"
   ]
  }
 ],
 "metadata": {
  "kernelspec": {
   "display_name": "Python 3",
   "language": "python",
   "name": "python3"
  },
  "language_info": {
   "codemirror_mode": {
    "name": "ipython",
    "version": 3
   },
   "file_extension": ".py",
   "mimetype": "text/x-python",
   "name": "python",
   "nbconvert_exporter": "python",
   "pygments_lexer": "ipython3",
   "version": "3.8.8"
  }
 },
 "nbformat": 4,
 "nbformat_minor": 5
}
